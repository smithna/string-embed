{
 "cells": [
  {
   "cell_type": "code",
   "execution_count": 1,
   "id": "de6272b8-b3f0-4d4f-99f3-7dbd329ece76",
   "metadata": {},
   "outputs": [],
   "source": [
    "from faker import Faker\n",
    "import pandas as pd"
   ]
  },
  {
   "cell_type": "code",
   "execution_count": 2,
   "id": "095f111a-e7bb-4847-b38a-a7d77bc7ca67",
   "metadata": {},
   "outputs": [],
   "source": [
    "fake = Faker()"
   ]
  },
  {
   "cell_type": "markdown",
   "id": "e0cff035-c709-4897-bbe0-c9b98fa64f83",
   "metadata": {},
   "source": [
    "# Generate synthetic emails"
   ]
  },
  {
   "cell_type": "code",
   "execution_count": 3,
   "id": "ff14532c-c499-4972-abdf-ac31b668fadf",
   "metadata": {},
   "outputs": [],
   "source": [
    "emails = [fake.ascii_email() for i in range(0,250000)]"
   ]
  },
  {
   "cell_type": "code",
   "execution_count": 4,
   "id": "ee4c7a2c-9ed2-444d-9b0d-fb097c5486f0",
   "metadata": {},
   "outputs": [
    {
     "data": {
      "text/plain": [
       "['cooperjames@yahoo.com',\n",
       " 'cindy24@hotmail.com',\n",
       " 'averyjohn@ruiz.com',\n",
       " 'santanachristopher@burns-robinson.com',\n",
       " 'alvarezsherri@gmail.com']"
      ]
     },
     "execution_count": 4,
     "metadata": {},
     "output_type": "execute_result"
    }
   ],
   "source": [
    "emails[:5]"
   ]
  },
  {
   "cell_type": "code",
   "execution_count": 5,
   "id": "d63fc76e-c89b-42d1-bcb6-8e7ae0d33249",
   "metadata": {},
   "outputs": [],
   "source": [
    "email_df = pd.DataFrame(emails)"
   ]
  },
  {
   "cell_type": "code",
   "execution_count": 6,
   "id": "ac5e5ac9-bced-426e-aff7-b393a7844555",
   "metadata": {},
   "outputs": [],
   "source": [
    "email_df.drop_duplicates(inplace=True)"
   ]
  },
  {
   "cell_type": "code",
   "execution_count": 7,
   "id": "211ad3c7-b29f-4f29-867f-421fe43bd56d",
   "metadata": {},
   "outputs": [
    {
     "data": {
      "text/plain": [
       "(141286, 1)"
      ]
     },
     "execution_count": 7,
     "metadata": {},
     "output_type": "execute_result"
    }
   ],
   "source": [
    "email_df.shape"
   ]
  },
  {
   "cell_type": "code",
   "execution_count": 8,
   "id": "4ada2b0a-c234-4163-aa48-d91e5c93435e",
   "metadata": {},
   "outputs": [],
   "source": [
    "email_df.to_csv(\"../data/emails\", index=False, header=False)"
   ]
  }
 ],
 "metadata": {
  "kernelspec": {
   "display_name": "Python 3 (ipykernel)",
   "language": "python",
   "name": "python3"
  },
  "language_info": {
   "codemirror_mode": {
    "name": "ipython",
    "version": 3
   },
   "file_extension": ".py",
   "mimetype": "text/x-python",
   "name": "python",
   "nbconvert_exporter": "python",
   "pygments_lexer": "ipython3",
   "version": "3.10.14"
  }
 },
 "nbformat": 4,
 "nbformat_minor": 5
}
