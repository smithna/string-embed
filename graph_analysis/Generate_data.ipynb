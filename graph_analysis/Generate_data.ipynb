{
 "cells": [
  {
   "cell_type": "code",
   "execution_count": 3,
   "id": "de6272b8-b3f0-4d4f-99f3-7dbd329ece76",
   "metadata": {},
   "outputs": [],
   "source": [
    "from faker import Faker\n",
    "import pandas as pd"
   ]
  },
  {
   "cell_type": "code",
   "execution_count": 4,
   "id": "095f111a-e7bb-4847-b38a-a7d77bc7ca67",
   "metadata": {},
   "outputs": [],
   "source": [
    "fake = Faker()"
   ]
  },
  {
   "cell_type": "markdown",
   "id": "e0cff035-c709-4897-bbe0-c9b98fa64f83",
   "metadata": {},
   "source": [
    "# Emails"
   ]
  },
  {
   "cell_type": "code",
   "execution_count": 5,
   "id": "ff14532c-c499-4972-abdf-ac31b668fadf",
   "metadata": {},
   "outputs": [],
   "source": [
    "emails = [fake.ascii_email() for i in range(0,100000)]"
   ]
  },
  {
   "cell_type": "code",
   "execution_count": 6,
   "id": "ee4c7a2c-9ed2-444d-9b0d-fb097c5486f0",
   "metadata": {},
   "outputs": [
    {
     "data": {
      "text/plain": [
       "['rhonda82@yahoo.com',\n",
       " 'mvelazquez@hotmail.com',\n",
       " 'sandrawilliams@chavez-morales.com',\n",
       " 'caleb08@pacheco.com',\n",
       " 'esmith@chen.com']"
      ]
     },
     "execution_count": 6,
     "metadata": {},
     "output_type": "execute_result"
    }
   ],
   "source": [
    "emails[:5]"
   ]
  },
  {
   "cell_type": "code",
   "execution_count": 7,
   "id": "d63fc76e-c89b-42d1-bcb6-8e7ae0d33249",
   "metadata": {},
   "outputs": [],
   "source": [
    "email_df = pd.DataFrame(emails)"
   ]
  },
  {
   "cell_type": "code",
   "execution_count": 8,
   "id": "ac5e5ac9-bced-426e-aff7-b393a7844555",
   "metadata": {},
   "outputs": [],
   "source": [
    "email_df.drop_duplicates(inplace=True)"
   ]
  },
  {
   "cell_type": "code",
   "execution_count": 9,
   "id": "211ad3c7-b29f-4f29-867f-421fe43bd56d",
   "metadata": {},
   "outputs": [
    {
     "data": {
      "text/plain": [
       "(95905, 1)"
      ]
     },
     "execution_count": 9,
     "metadata": {},
     "output_type": "execute_result"
    }
   ],
   "source": [
    "email_df.shape"
   ]
  },
  {
   "cell_type": "code",
   "execution_count": 11,
   "id": "4ada2b0a-c234-4163-aa48-d91e5c93435e",
   "metadata": {},
   "outputs": [],
   "source": [
    "email_df.to_csv(\"data/emails\", index=False, header=False)"
   ]
  },
  {
   "cell_type": "markdown",
   "id": "42e839db-55f2-4759-8db4-2857a5e615e1",
   "metadata": {},
   "source": [
    "# Social Security Numbers"
   ]
  },
  {
   "cell_type": "code",
   "execution_count": 6,
   "id": "80890cb0-cb3d-496a-a327-9cd0f8765de2",
   "metadata": {},
   "outputs": [],
   "source": [
    "ssn = [fake.ssn() for i in range(0,100000)]"
   ]
  },
  {
   "cell_type": "code",
   "execution_count": 8,
   "id": "56246d84-80b8-43d5-b7a0-b4ff512667c4",
   "metadata": {},
   "outputs": [
    {
     "data": {
      "text/plain": [
       "['797-19-5522', '607-53-7106', '883-80-7822', '444-34-9110', '473-41-3914']"
      ]
     },
     "execution_count": 8,
     "metadata": {},
     "output_type": "execute_result"
    }
   ],
   "source": [
    "ssn[:5]"
   ]
  },
  {
   "cell_type": "code",
   "execution_count": 9,
   "id": "f97c9dbb-eff9-475b-98ed-b3107af051e5",
   "metadata": {},
   "outputs": [],
   "source": [
    "ssn_df = pd.DataFrame(ssn)"
   ]
  },
  {
   "cell_type": "code",
   "execution_count": 11,
   "id": "628c9831-51f9-4238-965d-a9586f9a4bb8",
   "metadata": {},
   "outputs": [],
   "source": [
    "ssn_df.drop_duplicates(inplace=True)"
   ]
  },
  {
   "cell_type": "code",
   "execution_count": 12,
   "id": "2742ee56-3795-4207-85e5-a5ff461ee9fa",
   "metadata": {},
   "outputs": [
    {
     "data": {
      "text/plain": [
       "(99990, 1)"
      ]
     },
     "execution_count": 12,
     "metadata": {},
     "output_type": "execute_result"
    }
   ],
   "source": [
    "ssn_df.shape"
   ]
  },
  {
   "cell_type": "code",
   "execution_count": 13,
   "id": "28c0d9bb-0bd0-4d7e-8a8c-3735b751a959",
   "metadata": {},
   "outputs": [],
   "source": [
    "ssn_df.to_csv(\"data/ssn\", index=False, header=False)"
   ]
  },
  {
   "cell_type": "code",
   "execution_count": null,
   "id": "0ede8c66-74cd-4b33-8f1c-435b6c710fab",
   "metadata": {},
   "outputs": [],
   "source": []
  }
 ],
 "metadata": {
  "kernelspec": {
   "display_name": "Python 3 (ipykernel)",
   "language": "python",
   "name": "python3"
  },
  "language_info": {
   "codemirror_mode": {
    "name": "ipython",
    "version": 3
   },
   "file_extension": ".py",
   "mimetype": "text/x-python",
   "name": "python",
   "nbconvert_exporter": "python",
   "pygments_lexer": "ipython3",
   "version": "3.10.14"
  }
 },
 "nbformat": 4,
 "nbformat_minor": 5
}
