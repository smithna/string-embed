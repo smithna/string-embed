{
 "cells": [
  {
   "cell_type": "code",
   "execution_count": 1,
   "id": "fa9c9a06-c53e-46bb-84c8-007aadf1d965",
   "metadata": {},
   "outputs": [],
   "source": [
    "import pandas as pd\n",
    "import recordlinkage\n",
    "from graphdatascience import GraphDataScience\n",
    "from getpass import getpass\n",
    "from time import perf_counter"
   ]
  },
  {
   "cell_type": "code",
   "execution_count": 2,
   "id": "32c9d155-9bed-48f9-a61b-ddc20fe3efc4",
   "metadata": {},
   "outputs": [],
   "source": [
    "email_df = pd.read_csv(\"data/emails\", header=None)\n",
    "email_df.columns=['email']"
   ]
  },
  {
   "cell_type": "code",
   "execution_count": 3,
   "id": "e9b3500e-c2b1-491e-b757-37954e13cc8b",
   "metadata": {},
   "outputs": [],
   "source": [
    "email_df['first_letters'] = email_df['email'].str[:2]"
   ]
  },
  {
   "cell_type": "code",
   "execution_count": 4,
   "id": "bd2fbb69-9306-4667-bd5b-0e4fd0accde3",
   "metadata": {},
   "outputs": [],
   "source": [
    "email_df['tld'] = email_df['email'].str.split(\".\").map(lambda x: x[-1])"
   ]
  },
  {
   "cell_type": "code",
   "execution_count": 5,
   "id": "152dcebd-62ad-453a-afd2-674703028870",
   "metadata": {},
   "outputs": [],
   "source": [
    "email_df['middle_letters'] = email_df['email'].str[2:].str.split(\".\").map(lambda x: \".\".join(x[:-1]))"
   ]
  },
  {
   "cell_type": "code",
   "execution_count": 6,
   "id": "b8bd6dbf-3139-4907-b694-9bbd3158af3e",
   "metadata": {},
   "outputs": [
    {
     "data": {
      "text/html": [
       "<div>\n",
       "<style scoped>\n",
       "    .dataframe tbody tr th:only-of-type {\n",
       "        vertical-align: middle;\n",
       "    }\n",
       "\n",
       "    .dataframe tbody tr th {\n",
       "        vertical-align: top;\n",
       "    }\n",
       "\n",
       "    .dataframe thead th {\n",
       "        text-align: right;\n",
       "    }\n",
       "</style>\n",
       "<table border=\"1\" class=\"dataframe\">\n",
       "  <thead>\n",
       "    <tr style=\"text-align: right;\">\n",
       "      <th></th>\n",
       "      <th>email</th>\n",
       "      <th>first_letters</th>\n",
       "      <th>tld</th>\n",
       "      <th>middle_letters</th>\n",
       "    </tr>\n",
       "  </thead>\n",
       "  <tbody>\n",
       "    <tr>\n",
       "      <th>0</th>\n",
       "      <td>rhonda82@yahoo.com</td>\n",
       "      <td>rh</td>\n",
       "      <td>com</td>\n",
       "      <td>onda82@yahoo</td>\n",
       "    </tr>\n",
       "    <tr>\n",
       "      <th>1</th>\n",
       "      <td>mvelazquez@hotmail.com</td>\n",
       "      <td>mv</td>\n",
       "      <td>com</td>\n",
       "      <td>elazquez@hotmail</td>\n",
       "    </tr>\n",
       "    <tr>\n",
       "      <th>2</th>\n",
       "      <td>sandrawilliams@chavez-morales.com</td>\n",
       "      <td>sa</td>\n",
       "      <td>com</td>\n",
       "      <td>ndrawilliams@chavez-morales</td>\n",
       "    </tr>\n",
       "    <tr>\n",
       "      <th>3</th>\n",
       "      <td>caleb08@pacheco.com</td>\n",
       "      <td>ca</td>\n",
       "      <td>com</td>\n",
       "      <td>leb08@pacheco</td>\n",
       "    </tr>\n",
       "    <tr>\n",
       "      <th>4</th>\n",
       "      <td>esmith@chen.com</td>\n",
       "      <td>es</td>\n",
       "      <td>com</td>\n",
       "      <td>mith@chen</td>\n",
       "    </tr>\n",
       "  </tbody>\n",
       "</table>\n",
       "</div>"
      ],
      "text/plain": [
       "                               email first_letters  tld  \\\n",
       "0                 rhonda82@yahoo.com            rh  com   \n",
       "1             mvelazquez@hotmail.com            mv  com   \n",
       "2  sandrawilliams@chavez-morales.com            sa  com   \n",
       "3                caleb08@pacheco.com            ca  com   \n",
       "4                    esmith@chen.com            es  com   \n",
       "\n",
       "                middle_letters  \n",
       "0                 onda82@yahoo  \n",
       "1             elazquez@hotmail  \n",
       "2  ndrawilliams@chavez-morales  \n",
       "3                leb08@pacheco  \n",
       "4                    mith@chen  "
      ]
     },
     "execution_count": 6,
     "metadata": {},
     "output_type": "execute_result"
    }
   ],
   "source": [
    "email_df.head()"
   ]
  },
  {
   "cell_type": "code",
   "execution_count": 7,
   "id": "a69c389f-2c13-4200-82f5-d08519b29e18",
   "metadata": {},
   "outputs": [],
   "source": [
    "start_time = perf_counter()\n",
    "indexer = recordlinkage.Index()\n",
    "indexer.block([\"first_letters\", \"tld\"])\n",
    "indexer.block(\"middle_letters\")\n",
    "candidate_links = indexer.index(email_df)\n",
    "end_time = perf_counter()"
   ]
  },
  {
   "cell_type": "code",
   "execution_count": 8,
   "id": "88e13854-67eb-47d8-8800-6077dee80b6d",
   "metadata": {},
   "outputs": [
    {
     "data": {
      "text/plain": [
       "29901916"
      ]
     },
     "execution_count": 8,
     "metadata": {},
     "output_type": "execute_result"
    }
   ],
   "source": [
    "len(candidate_links)"
   ]
  },
  {
   "cell_type": "code",
   "execution_count": 9,
   "id": "363b0790-677b-46e7-a4cf-0d7f24f73f6e",
   "metadata": {},
   "outputs": [
    {
     "name": "stdout",
     "output_type": "stream",
     "text": [
      "12.798818184004631\n"
     ]
    }
   ],
   "source": [
    "print(end_time - start_time)"
   ]
  },
  {
   "cell_type": "code",
   "execution_count": 10,
   "id": "371f5e1d-9042-40d9-83e8-523b6d124f6f",
   "metadata": {},
   "outputs": [],
   "source": [
    "start_time = perf_counter()\n",
    "compare = recordlinkage.Compare()\n",
    "compare.string(\n",
    "    \"email\", \"email\", method=\"levenshtein\", label=\"email\", threshold=0.8\n",
    ")\n",
    "features = compare.compute(candidate_links, email_df)\n",
    "end_time = perf_counter()"
   ]
  },
  {
   "cell_type": "code",
   "execution_count": 11,
   "id": "d717f0c5-f099-4025-b72e-d4a6bbda1f5c",
   "metadata": {},
   "outputs": [
    {
     "name": "stdout",
     "output_type": "stream",
     "text": [
      "267.308042293007\n"
     ]
    }
   ],
   "source": [
    "print(end_time - start_time)"
   ]
  },
  {
   "cell_type": "code",
   "execution_count": 12,
   "id": "b0319baa-5329-4d75-a7eb-f8a57378a5a8",
   "metadata": {},
   "outputs": [
    {
     "data": {
      "text/plain": [
       "(260295, 1)"
      ]
     },
     "execution_count": 12,
     "metadata": {},
     "output_type": "execute_result"
    }
   ],
   "source": [
    "features[features['email'] == 1].shape"
   ]
  },
  {
   "cell_type": "code",
   "execution_count": 13,
   "id": "96a51a4d-a471-4d04-beee-ad46e4a71e8a",
   "metadata": {},
   "outputs": [
    {
     "data": {
      "text/html": [
       "<div>\n",
       "<style scoped>\n",
       "    .dataframe tbody tr th:only-of-type {\n",
       "        vertical-align: middle;\n",
       "    }\n",
       "\n",
       "    .dataframe tbody tr th {\n",
       "        vertical-align: top;\n",
       "    }\n",
       "\n",
       "    .dataframe thead th {\n",
       "        text-align: right;\n",
       "    }\n",
       "</style>\n",
       "<table border=\"1\" class=\"dataframe\">\n",
       "  <thead>\n",
       "    <tr style=\"text-align: right;\">\n",
       "      <th></th>\n",
       "      <th></th>\n",
       "      <th>email</th>\n",
       "    </tr>\n",
       "  </thead>\n",
       "  <tbody>\n",
       "    <tr>\n",
       "      <th>238</th>\n",
       "      <th>199</th>\n",
       "      <td>1.0</td>\n",
       "    </tr>\n",
       "    <tr>\n",
       "      <th>253</th>\n",
       "      <th>201</th>\n",
       "      <td>1.0</td>\n",
       "    </tr>\n",
       "    <tr>\n",
       "      <th rowspan=\"2\" valign=\"top\">301</th>\n",
       "      <th>201</th>\n",
       "      <td>1.0</td>\n",
       "    </tr>\n",
       "    <tr>\n",
       "      <th>253</th>\n",
       "      <td>1.0</td>\n",
       "    </tr>\n",
       "    <tr>\n",
       "      <th>309</th>\n",
       "      <th>38</th>\n",
       "      <td>1.0</td>\n",
       "    </tr>\n",
       "  </tbody>\n",
       "</table>\n",
       "</div>"
      ],
      "text/plain": [
       "         email\n",
       "238 199    1.0\n",
       "253 201    1.0\n",
       "301 201    1.0\n",
       "    253    1.0\n",
       "309 38     1.0"
      ]
     },
     "execution_count": 13,
     "metadata": {},
     "output_type": "execute_result"
    }
   ],
   "source": [
    "features[features['email'] == 1].head()"
   ]
  },
  {
   "cell_type": "code",
   "execution_count": 14,
   "id": "789bf218-a7ad-4163-89b8-3bbeb68c49bc",
   "metadata": {},
   "outputs": [
    {
     "data": {
      "text/plain": [
       "email             robin08@hotmail.com\n",
       "first_letters                      ro\n",
       "tld                               com\n",
       "middle_letters          bin08@hotmail\n",
       "Name: 238, dtype: object"
      ]
     },
     "execution_count": 14,
     "metadata": {},
     "output_type": "execute_result"
    }
   ],
   "source": [
    "email_df.iloc[238]"
   ]
  },
  {
   "cell_type": "code",
   "execution_count": 15,
   "id": "c6a00588-5110-485a-a15f-5161ccef803e",
   "metadata": {},
   "outputs": [
    {
     "data": {
      "text/plain": [
       "email             robert05@hotmail.com\n",
       "first_letters                       ro\n",
       "tld                                com\n",
       "middle_letters          bert05@hotmail\n",
       "Name: 199, dtype: object"
      ]
     },
     "execution_count": 15,
     "metadata": {},
     "output_type": "execute_result"
    }
   ],
   "source": [
    "email_df.iloc[199]"
   ]
  },
  {
   "cell_type": "code",
   "execution_count": 4,
   "id": "69b05654-d9f0-4415-8839-a9d2a0428c26",
   "metadata": {},
   "outputs": [
    {
     "name": "stdin",
     "output_type": "stream",
     "text": [
      "neo4j password ········\n"
     ]
    }
   ],
   "source": [
    "neo4j_password = getpass(\"neo4j password\")"
   ]
  },
  {
   "cell_type": "code",
   "execution_count": null,
   "id": "ab40a44a-35d2-4309-9a4d-7917daa76973",
   "metadata": {},
   "outputs": [],
   "source": [
    "gds = GraphDataScience("
   ]
  }
 ],
 "metadata": {
  "kernelspec": {
   "display_name": "Python 3 (ipykernel)",
   "language": "python",
   "name": "python3"
  },
  "language_info": {
   "codemirror_mode": {
    "name": "ipython",
    "version": 3
   },
   "file_extension": ".py",
   "mimetype": "text/x-python",
   "name": "python",
   "nbconvert_exporter": "python",
   "pygments_lexer": "ipython3",
   "version": "3.10.14"
  }
 },
 "nbformat": 4,
 "nbformat_minor": 5
}
