{
 "cells": [
  {
   "cell_type": "code",
   "execution_count": 3,
   "id": "fa9c9a06-c53e-46bb-84c8-007aadf1d965",
   "metadata": {},
   "outputs": [],
   "source": [
    "import pandas as pd\n",
    "import recordlinkage\n",
    "from graphdatascience import GraphDataScience\n",
    "from getpass import getpass\n",
    "from time import perf_counter"
   ]
  },
  {
   "cell_type": "markdown",
   "id": "996db87f-5f8d-40e9-8e39-545c689ade14",
   "metadata": {},
   "source": [
    "# Read emails"
   ]
  },
  {
   "cell_type": "code",
   "execution_count": 24,
   "id": "32c9d155-9bed-48f9-a61b-ddc20fe3efc4",
   "metadata": {},
   "outputs": [],
   "source": [
    "email_df = pd.read_csv(\"../data/emails\", header=None)\n",
    "email_df.columns=['email']"
   ]
  },
  {
   "cell_type": "markdown",
   "id": "7c999112-c48b-426a-8e0f-4ad89f6d2058",
   "metadata": {},
   "source": [
    "# Set up blocking columns on first two letters, top level domain, and remaining letters."
   ]
  },
  {
   "cell_type": "code",
   "execution_count": 25,
   "id": "e9b3500e-c2b1-491e-b757-37954e13cc8b",
   "metadata": {},
   "outputs": [],
   "source": [
    "email_df['first_letter'] = email_df['email'].str[:1]\n",
    "email_df['first_letters'] = email_df['email'].str[:2]"
   ]
  },
  {
   "cell_type": "code",
   "execution_count": 26,
   "id": "bd2fbb69-9306-4667-bd5b-0e4fd0accde3",
   "metadata": {},
   "outputs": [],
   "source": [
    "email_df['tld'] = email_df['email'].str.split(\".\").map(lambda x: x[-1])"
   ]
  },
  {
   "cell_type": "code",
   "execution_count": 27,
   "id": "152dcebd-62ad-453a-afd2-674703028870",
   "metadata": {},
   "outputs": [],
   "source": [
    "email_df['middle_letters'] = email_df['email'].str[2:].str.split(\".\").map(lambda x: \".\".join(x[:-1]))"
   ]
  },
  {
   "cell_type": "code",
   "execution_count": 28,
   "id": "b8bd6dbf-3139-4907-b694-9bbd3158af3e",
   "metadata": {},
   "outputs": [
    {
     "data": {
      "text/html": [
       "<div>\n",
       "<style scoped>\n",
       "    .dataframe tbody tr th:only-of-type {\n",
       "        vertical-align: middle;\n",
       "    }\n",
       "\n",
       "    .dataframe tbody tr th {\n",
       "        vertical-align: top;\n",
       "    }\n",
       "\n",
       "    .dataframe thead th {\n",
       "        text-align: right;\n",
       "    }\n",
       "</style>\n",
       "<table border=\"1\" class=\"dataframe\">\n",
       "  <thead>\n",
       "    <tr style=\"text-align: right;\">\n",
       "      <th></th>\n",
       "      <th>email</th>\n",
       "      <th>first_letter</th>\n",
       "      <th>first_letters</th>\n",
       "      <th>tld</th>\n",
       "      <th>middle_letters</th>\n",
       "    </tr>\n",
       "  </thead>\n",
       "  <tbody>\n",
       "    <tr>\n",
       "      <th>0</th>\n",
       "      <td>cooperjames@yahoo.com</td>\n",
       "      <td>c</td>\n",
       "      <td>co</td>\n",
       "      <td>com</td>\n",
       "      <td>operjames@yahoo</td>\n",
       "    </tr>\n",
       "    <tr>\n",
       "      <th>1</th>\n",
       "      <td>cindy24@hotmail.com</td>\n",
       "      <td>c</td>\n",
       "      <td>ci</td>\n",
       "      <td>com</td>\n",
       "      <td>ndy24@hotmail</td>\n",
       "    </tr>\n",
       "    <tr>\n",
       "      <th>2</th>\n",
       "      <td>averyjohn@ruiz.com</td>\n",
       "      <td>a</td>\n",
       "      <td>av</td>\n",
       "      <td>com</td>\n",
       "      <td>eryjohn@ruiz</td>\n",
       "    </tr>\n",
       "    <tr>\n",
       "      <th>3</th>\n",
       "      <td>santanachristopher@burns-robinson.com</td>\n",
       "      <td>s</td>\n",
       "      <td>sa</td>\n",
       "      <td>com</td>\n",
       "      <td>ntanachristopher@burns-robinson</td>\n",
       "    </tr>\n",
       "    <tr>\n",
       "      <th>4</th>\n",
       "      <td>alvarezsherri@gmail.com</td>\n",
       "      <td>a</td>\n",
       "      <td>al</td>\n",
       "      <td>com</td>\n",
       "      <td>varezsherri@gmail</td>\n",
       "    </tr>\n",
       "  </tbody>\n",
       "</table>\n",
       "</div>"
      ],
      "text/plain": [
       "                                   email first_letter first_letters  tld  \\\n",
       "0                  cooperjames@yahoo.com            c            co  com   \n",
       "1                    cindy24@hotmail.com            c            ci  com   \n",
       "2                     averyjohn@ruiz.com            a            av  com   \n",
       "3  santanachristopher@burns-robinson.com            s            sa  com   \n",
       "4                alvarezsherri@gmail.com            a            al  com   \n",
       "\n",
       "                    middle_letters  \n",
       "0                  operjames@yahoo  \n",
       "1                    ndy24@hotmail  \n",
       "2                     eryjohn@ruiz  \n",
       "3  ntanachristopher@burns-robinson  \n",
       "4                varezsherri@gmail  "
      ]
     },
     "execution_count": 28,
     "metadata": {},
     "output_type": "execute_result"
    }
   ],
   "source": [
    "email_df.head()"
   ]
  },
  {
   "cell_type": "markdown",
   "id": "3e438f51-1499-469f-ba98-af6e1f7ba56e",
   "metadata": {},
   "source": [
    "# Identify candidate links"
   ]
  },
  {
   "cell_type": "markdown",
   "id": "c42b7f8f-ec0e-4bf5-9326-63c6ab52a2b5",
   "metadata": {},
   "source": [
    "Blocking on first letter only causes my kernel to crash. **Expect the next cell to fail unless you have a lot of memory!**"
   ]
  },
  {
   "cell_type": "code",
   "execution_count": null,
   "id": "f5bc20c2-32c6-4849-9829-a09e00600683",
   "metadata": {},
   "outputs": [],
   "source": [
    "indexer = recordlinkage.Index()\n",
    "indexer.block(\"first_letter\")\n",
    "candidate_links = indexer.index(email_df)"
   ]
  },
  {
   "cell_type": "markdown",
   "id": "7a115998-aae1-4911-8868-e2501d83dfc7",
   "metadata": {},
   "source": [
    "Try blocking on the first two letters + the tld or the middle letters."
   ]
  },
  {
   "cell_type": "code",
   "execution_count": 8,
   "id": "a69c389f-2c13-4200-82f5-d08519b29e18",
   "metadata": {},
   "outputs": [
    {
     "name": "stdout",
     "output_type": "stream",
     "text": [
      "31.721396744999765\n"
     ]
    }
   ],
   "source": [
    "start_time = perf_counter()\n",
    "indexer = recordlinkage.Index()\n",
    "indexer.block([\"first_letters\", \"tld\"])\n",
    "indexer.block(\"middle_letters\")\n",
    "candidate_links = indexer.index(email_df)\n",
    "end_time = perf_counter()\n",
    "print(end_time - start_time)"
   ]
  },
  {
   "cell_type": "code",
   "execution_count": 9,
   "id": "88e13854-67eb-47d8-8800-6077dee80b6d",
   "metadata": {},
   "outputs": [
    {
     "data": {
      "text/plain": [
       "64816224"
      ]
     },
     "execution_count": 9,
     "metadata": {},
     "output_type": "execute_result"
    }
   ],
   "source": [
    "len(candidate_links)"
   ]
  },
  {
   "cell_type": "code",
   "execution_count": 10,
   "id": "371f5e1d-9042-40d9-83e8-523b6d124f6f",
   "metadata": {},
   "outputs": [
    {
     "name": "stdout",
     "output_type": "stream",
     "text": [
      "577.5809937390004\n"
     ]
    }
   ],
   "source": [
    "start_time = perf_counter()\n",
    "compare = recordlinkage.Compare()\n",
    "compare.string(\n",
    "    \"email\", \"email\", method=\"levenshtein\", label=\"email\"\n",
    ")\n",
    "features = compare.compute(candidate_links, email_df)\n",
    "end_time = perf_counter()\n",
    "print(end_time - start_time)"
   ]
  },
  {
   "cell_type": "code",
   "execution_count": 11,
   "id": "bbb3a064-3287-4ffa-ab93-89bf591bac09",
   "metadata": {},
   "outputs": [],
   "source": [
    "matched_df = features[features['email']>0.8].reset_index().copy()"
   ]
  },
  {
   "cell_type": "code",
   "execution_count": 12,
   "id": "8f51bf27-71c0-42eb-8ecf-59489d470b02",
   "metadata": {},
   "outputs": [],
   "source": [
    "matched_df.columns = ['index1', 'index2', 'score']"
   ]
  },
  {
   "cell_type": "code",
   "execution_count": 13,
   "id": "92955c73-b639-4a39-a456-9965d693a139",
   "metadata": {},
   "outputs": [],
   "source": [
    "matched_df = matched_df.merge(email_df['email'], left_on='index1', right_index=True)\n",
    "matched_df = matched_df.merge(email_df['email'], left_on='index2', right_index=True)"
   ]
  },
  {
   "cell_type": "code",
   "execution_count": 14,
   "id": "eec2d425-8742-4a0d-8061-1086f59616b5",
   "metadata": {},
   "outputs": [
    {
     "data": {
      "text/plain": [
       "(455781, 5)"
      ]
     },
     "execution_count": 14,
     "metadata": {},
     "output_type": "execute_result"
    }
   ],
   "source": [
    "matched_df.shape"
   ]
  },
  {
   "cell_type": "code",
   "execution_count": 5,
   "id": "69b05654-d9f0-4415-8839-a9d2a0428c26",
   "metadata": {},
   "outputs": [
    {
     "name": "stdin",
     "output_type": "stream",
     "text": [
      "neo4j password ········\n"
     ]
    }
   ],
   "source": [
    "neo4j_password = getpass(\"neo4j password\")"
   ]
  },
  {
   "cell_type": "code",
   "execution_count": 6,
   "id": "ab40a44a-35d2-4309-9a4d-7917daa76973",
   "metadata": {},
   "outputs": [
    {
     "name": "stderr",
     "output_type": "stream",
     "text": [
      "Received notification from DBMS server: {severity: WARNING} {code: Neo.ClientNotification.Statement.FeatureDeprecationWarning} {category: DEPRECATION} {title: This feature is deprecated and will be removed in future versions.} {description: The query used a deprecated field from a procedure. ('advertisedListenAddress' returned by 'gds.debug.arrow' is deprecated.)} {position: line: 1, column: 1, offset: 0} for query: 'CALL gds.debug.arrow()'\n",
      "Received notification from DBMS server: {severity: WARNING} {code: Neo.ClientNotification.Statement.FeatureDeprecationWarning} {category: DEPRECATION} {title: This feature is deprecated and will be removed in future versions.} {description: The query used a deprecated field from a procedure. ('serverLocation' returned by 'gds.debug.arrow' is deprecated.)} {position: line: 1, column: 1, offset: 0} for query: 'CALL gds.debug.arrow()'\n"
     ]
    }
   ],
   "source": [
    "gds = GraphDataScience(\"neo4j+s://3bddbcd7.databases.neo4j.io\", auth=(\"neo4j\", neo4j_password))"
   ]
  },
  {
   "cell_type": "code",
   "execution_count": 22,
   "id": "3f784a43-c5cf-4979-a8ab-b4cd6db7e384",
   "metadata": {},
   "outputs": [
    {
     "name": "stderr",
     "output_type": "stream",
     "text": [
      "Failed to read from defunct connection IPv4Address(('3bddbcd7.databases.neo4j.io', 7687)) (ResolvedIPv4Address(('34.28.32.244', 7687)))\n"
     ]
    },
    {
     "data": {
      "text/html": [
       "<div>\n",
       "<style scoped>\n",
       "    .dataframe tbody tr th:only-of-type {\n",
       "        vertical-align: middle;\n",
       "    }\n",
       "\n",
       "    .dataframe tbody tr th {\n",
       "        vertical-align: top;\n",
       "    }\n",
       "\n",
       "    .dataframe thead th {\n",
       "        text-align: right;\n",
       "    }\n",
       "</style>\n",
       "<table border=\"1\" class=\"dataframe\">\n",
       "  <thead>\n",
       "    <tr style=\"text-align: right;\">\n",
       "      <th></th>\n",
       "    </tr>\n",
       "  </thead>\n",
       "  <tbody>\n",
       "  </tbody>\n",
       "</table>\n",
       "</div>"
      ],
      "text/plain": [
       "Empty DataFrame\n",
       "Columns: []\n",
       "Index: []"
      ]
     },
     "execution_count": 22,
     "metadata": {},
     "output_type": "execute_result"
    }
   ],
   "source": [
    "gds.run_cypher(\"\"\"\n",
    "CALL {\n",
    "UNWIND $data AS row\n",
    "MATCH (e1:Email {address:row['email_x']})\n",
    "MATCH (e2:Email {address:row['email_y']})\n",
    "WITH e1, e2, row, apoc.text.levenshteinDistance(e1.address, e2.address) AS levenshteinDistance\n",
    "WHERE levenshteinDistance <= 2\n",
    "MERGE (e1)-[r:HAS_SIMILAR_ADDRESS]->(e2)\n",
    "SET r.recordLinkageScore = row['score'],\n",
    "r.levenshteinDistance = levenshteinDistance\n",
    "} IN TRANSACTIONS OF 10000 ROWS\"\"\",\n",
    "              {\"data\": matched_df[['score', 'email_x', 'email_y']].to_dict(\"records\")})"
   ]
  },
  {
   "cell_type": "markdown",
   "id": "78077f4a-0a38-4cfb-be50-f347fc229925",
   "metadata": {},
   "source": [
    "# Compare record linkage results with embedding results"
   ]
  },
  {
   "cell_type": "code",
   "execution_count": 7,
   "id": "9845e587-d099-4df7-a7ad-89d31c72c09f",
   "metadata": {},
   "outputs": [
    {
     "data": {
      "text/html": [
       "<div>\n",
       "<style scoped>\n",
       "    .dataframe tbody tr th:only-of-type {\n",
       "        vertical-align: middle;\n",
       "    }\n",
       "\n",
       "    .dataframe tbody tr th {\n",
       "        vertical-align: top;\n",
       "    }\n",
       "\n",
       "    .dataframe thead th {\n",
       "        text-align: right;\n",
       "    }\n",
       "</style>\n",
       "<table border=\"1\" class=\"dataframe\">\n",
       "  <thead>\n",
       "    <tr style=\"text-align: right;\">\n",
       "      <th></th>\n",
       "      <th>matchType</th>\n",
       "      <th>pairs</th>\n",
       "    </tr>\n",
       "  </thead>\n",
       "  <tbody>\n",
       "    <tr>\n",
       "      <th>0</th>\n",
       "      <td>both</td>\n",
       "      <td>248790</td>\n",
       "    </tr>\n",
       "    <tr>\n",
       "      <th>1</th>\n",
       "      <td>embedding similarity only</td>\n",
       "      <td>15237</td>\n",
       "    </tr>\n",
       "    <tr>\n",
       "      <th>2</th>\n",
       "      <td>record linkage only</td>\n",
       "      <td>4106</td>\n",
       "    </tr>\n",
       "  </tbody>\n",
       "</table>\n",
       "</div>"
      ],
      "text/plain": [
       "                   matchType   pairs\n",
       "0                       both  248790\n",
       "1  embedding similarity only   15237\n",
       "2        record linkage only    4106"
      ]
     },
     "execution_count": 7,
     "metadata": {},
     "output_type": "execute_result"
    }
   ],
   "source": [
    "gds.run_cypher(\n",
    "\"\"\"MATCH (e1)-[r]-(e2)\n",
    "WHERE e1.address < e2.address\n",
    "WITH e1, e2, \n",
    "max(CASE WHEN r:HAS_SIMILAR_ADDRESS THEN 1 ELSE 0 END) AS recordLinkageMatch, \n",
    "max(CASE WHEN r:HAS_SIMILAR_EMBEDDING THEN 1 ELSE 0 END) AS embeddingLinkageMatch\n",
    "WITH e1, e2, \n",
    "CASE WHEN recordLinkageMatch = 1 and embeddingLinkageMatch = 1 THEN \"both\"\n",
    "WHEN recordLinkageMatch = 1 AND embeddingLinkageMatch = 0 THEN \"record linkage only\"\n",
    "WHEN recordLinkageMatch = 0 AND embeddingLinkageMatch = 1 THEN \"embedding similarity only\" END\n",
    "AS matchType\n",
    "return matchType, count(*) AS pairs\"\"\")"
   ]
  },
  {
   "cell_type": "markdown",
   "id": "0f91ded2-5899-4c90-ab27-47b94a60fb96",
   "metadata": {},
   "source": [
    "Look at examples that matched on embedding similarity only."
   ]
  },
  {
   "cell_type": "code",
   "execution_count": 8,
   "id": "f5e2991f-2d30-46da-b605-281b6d856969",
   "metadata": {},
   "outputs": [
    {
     "data": {
      "text/html": [
       "<div>\n",
       "<style scoped>\n",
       "    .dataframe tbody tr th:only-of-type {\n",
       "        vertical-align: middle;\n",
       "    }\n",
       "\n",
       "    .dataframe tbody tr th {\n",
       "        vertical-align: top;\n",
       "    }\n",
       "\n",
       "    .dataframe thead th {\n",
       "        text-align: right;\n",
       "    }\n",
       "</style>\n",
       "<table border=\"1\" class=\"dataframe\">\n",
       "  <thead>\n",
       "    <tr style=\"text-align: right;\">\n",
       "      <th></th>\n",
       "      <th>e1.address</th>\n",
       "      <th>e2.address</th>\n",
       "    </tr>\n",
       "  </thead>\n",
       "  <tbody>\n",
       "    <tr>\n",
       "      <th>0</th>\n",
       "      <td>amills@yahoo.com</td>\n",
       "      <td>zmiles@yahoo.com</td>\n",
       "    </tr>\n",
       "    <tr>\n",
       "      <th>1</th>\n",
       "      <td>amills@yahoo.com</td>\n",
       "      <td>awells@yahoo.com</td>\n",
       "    </tr>\n",
       "    <tr>\n",
       "      <th>2</th>\n",
       "      <td>ahill@yahoo.com</td>\n",
       "      <td>amills@yahoo.com</td>\n",
       "    </tr>\n",
       "    <tr>\n",
       "      <th>3</th>\n",
       "      <td>jward@gmail.com</td>\n",
       "      <td>lware@gmail.com</td>\n",
       "    </tr>\n",
       "  </tbody>\n",
       "</table>\n",
       "</div>"
      ],
      "text/plain": [
       "         e1.address        e2.address\n",
       "0  amills@yahoo.com  zmiles@yahoo.com\n",
       "1  amills@yahoo.com  awells@yahoo.com\n",
       "2   ahill@yahoo.com  amills@yahoo.com\n",
       "3   jward@gmail.com   lware@gmail.com"
      ]
     },
     "execution_count": 8,
     "metadata": {},
     "output_type": "execute_result"
    }
   ],
   "source": [
    "gds.run_cypher(\n",
    "\"\"\"MATCH (e1)-[r]-(e2)\n",
    "WHERE e1.address < e2.address\n",
    "WITH e1, e2, \n",
    "max(CASE WHEN r:HAS_SIMILAR_ADDRESS THEN 1 ELSE 0 END) AS recordLinkageMatch, \n",
    "max(CASE WHEN r:HAS_SIMILAR_EMBEDDING THEN 1 ELSE 0 END) AS embeddingLinkageMatch,\n",
    "collect(r) AS rels\n",
    "WITH e1, e2, rels,\n",
    "CASE WHEN recordLinkageMatch = 1 and embeddingLinkageMatch = 1 THEN \"both\"\n",
    "WHEN recordLinkageMatch = 1 AND embeddingLinkageMatch = 0 THEN \"record linkage only\"\n",
    "WHEN recordLinkageMatch = 0 AND embeddingLinkageMatch = 1 THEN \"embedding similarity only\" END\n",
    "AS matchType\n",
    "WHERE matchType = \"embedding similarity only\"\n",
    "return e1.address, e2.address\n",
    "limit 4\"\"\")"
   ]
  },
  {
   "cell_type": "markdown",
   "id": "2b6a26fe-5970-4fac-a888-a3cabfd3da8c",
   "metadata": {},
   "source": [
    "Create vector index."
   ]
  },
  {
   "cell_type": "code",
   "execution_count": 9,
   "id": "1c7fdfbc-7dee-4106-9c44-abb444d298d4",
   "metadata": {},
   "outputs": [
    {
     "data": {
      "text/html": [
       "<div>\n",
       "<style scoped>\n",
       "    .dataframe tbody tr th:only-of-type {\n",
       "        vertical-align: middle;\n",
       "    }\n",
       "\n",
       "    .dataframe tbody tr th {\n",
       "        vertical-align: top;\n",
       "    }\n",
       "\n",
       "    .dataframe thead th {\n",
       "        text-align: right;\n",
       "    }\n",
       "</style>\n",
       "<table border=\"1\" class=\"dataframe\">\n",
       "  <thead>\n",
       "    <tr style=\"text-align: right;\">\n",
       "      <th></th>\n",
       "    </tr>\n",
       "  </thead>\n",
       "  <tbody>\n",
       "  </tbody>\n",
       "</table>\n",
       "</div>"
      ],
      "text/plain": [
       "Empty DataFrame\n",
       "Columns: []\n",
       "Index: []"
      ]
     },
     "execution_count": 9,
     "metadata": {},
     "output_type": "execute_result"
    }
   ],
   "source": [
    "gds.run_cypher(\"\"\"\n",
    "CREATE VECTOR INDEX emailEditEmbedding IF NOT EXISTS\n",
    "FOR (e:Email)\n",
    "ON e.editEmbedding\n",
    "OPTIONS {indexConfig: {\n",
    " `vector.dimensions`: 128,\n",
    " `vector.similarity_function`: 'cosine'\n",
    "}}\"\"\")"
   ]
  },
  {
   "cell_type": "markdown",
   "id": "8e4f4ba7-31a0-4970-8810-f0cdd7bf382b",
   "metadata": {},
   "source": [
    "Find Emails that record linkage found but embedding similarity missed. Check their 80 nearest neighbors and compare with the missed match."
   ]
  },
  {
   "cell_type": "code",
   "execution_count": 14,
   "id": "91e0902d-06bc-4e81-8d70-a0c2607df18e",
   "metadata": {},
   "outputs": [
    {
     "data": {
      "text/html": [
       "<div>\n",
       "<style scoped>\n",
       "    .dataframe tbody tr th:only-of-type {\n",
       "        vertical-align: middle;\n",
       "    }\n",
       "\n",
       "    .dataframe tbody tr th {\n",
       "        vertical-align: top;\n",
       "    }\n",
       "\n",
       "    .dataframe thead th {\n",
       "        text-align: right;\n",
       "    }\n",
       "</style>\n",
       "<table border=\"1\" class=\"dataframe\">\n",
       "  <thead>\n",
       "    <tr style=\"text-align: right;\">\n",
       "      <th></th>\n",
       "      <th>address</th>\n",
       "      <th>address2</th>\n",
       "      <th>similarityToMissedMatch</th>\n",
       "      <th>similarityToNeighbor80</th>\n",
       "      <th>editDistanceToNeighbor80</th>\n",
       "      <th>neighborsEditLessThan2</th>\n",
       "    </tr>\n",
       "  </thead>\n",
       "  <tbody>\n",
       "    <tr>\n",
       "      <th>0</th>\n",
       "      <td>dbowen@hotmail.com</td>\n",
       "      <td>dbowers@hotmail.com</td>\n",
       "      <td>0.912871</td>\n",
       "      <td>0.958400</td>\n",
       "      <td>5</td>\n",
       "      <td>10</td>\n",
       "    </tr>\n",
       "    <tr>\n",
       "      <th>1</th>\n",
       "      <td>james87@hotmail.com</td>\n",
       "      <td>james41@hotmail.com</td>\n",
       "      <td>0.909403</td>\n",
       "      <td>0.954953</td>\n",
       "      <td>4</td>\n",
       "      <td>54</td>\n",
       "    </tr>\n",
       "    <tr>\n",
       "      <th>2</th>\n",
       "      <td>james60@hotmail.com</td>\n",
       "      <td>james94@hotmail.com</td>\n",
       "      <td>0.909852</td>\n",
       "      <td>0.955539</td>\n",
       "      <td>2</td>\n",
       "      <td>53</td>\n",
       "    </tr>\n",
       "    <tr>\n",
       "      <th>3</th>\n",
       "      <td>michael24@hotmail.com</td>\n",
       "      <td>michael30@hotmail.com</td>\n",
       "      <td>0.908219</td>\n",
       "      <td>0.954174</td>\n",
       "      <td>2</td>\n",
       "      <td>71</td>\n",
       "    </tr>\n",
       "    <tr>\n",
       "      <th>4</th>\n",
       "      <td>james17@hotmail.com</td>\n",
       "      <td>james94@hotmail.com</td>\n",
       "      <td>0.909470</td>\n",
       "      <td>0.955590</td>\n",
       "      <td>2</td>\n",
       "      <td>56</td>\n",
       "    </tr>\n",
       "    <tr>\n",
       "      <th>5</th>\n",
       "      <td>michael30@hotmail.com</td>\n",
       "      <td>michael24@hotmail.com</td>\n",
       "      <td>0.908219</td>\n",
       "      <td>0.954387</td>\n",
       "      <td>2</td>\n",
       "      <td>58</td>\n",
       "    </tr>\n",
       "    <tr>\n",
       "      <th>6</th>\n",
       "      <td>james45@hotmail.com</td>\n",
       "      <td>james37@hotmail.com</td>\n",
       "      <td>0.908316</td>\n",
       "      <td>0.954562</td>\n",
       "      <td>5</td>\n",
       "      <td>55</td>\n",
       "    </tr>\n",
       "    <tr>\n",
       "      <th>7</th>\n",
       "      <td>dbowers@hotmail.com</td>\n",
       "      <td>dbowen@hotmail.com</td>\n",
       "      <td>0.912871</td>\n",
       "      <td>0.959227</td>\n",
       "      <td>6</td>\n",
       "      <td>6</td>\n",
       "    </tr>\n",
       "    <tr>\n",
       "      <th>8</th>\n",
       "      <td>james45@hotmail.com</td>\n",
       "      <td>james60@hotmail.com</td>\n",
       "      <td>0.907734</td>\n",
       "      <td>0.954562</td>\n",
       "      <td>5</td>\n",
       "      <td>55</td>\n",
       "    </tr>\n",
       "    <tr>\n",
       "      <th>9</th>\n",
       "      <td>michael68@hotmail.com</td>\n",
       "      <td>michael40@hotmail.com</td>\n",
       "      <td>0.906522</td>\n",
       "      <td>0.953381</td>\n",
       "      <td>5</td>\n",
       "      <td>64</td>\n",
       "    </tr>\n",
       "  </tbody>\n",
       "</table>\n",
       "</div>"
      ],
      "text/plain": [
       "                 address               address2  similarityToMissedMatch  \\\n",
       "0     dbowen@hotmail.com    dbowers@hotmail.com                 0.912871   \n",
       "1    james87@hotmail.com    james41@hotmail.com                 0.909403   \n",
       "2    james60@hotmail.com    james94@hotmail.com                 0.909852   \n",
       "3  michael24@hotmail.com  michael30@hotmail.com                 0.908219   \n",
       "4    james17@hotmail.com    james94@hotmail.com                 0.909470   \n",
       "5  michael30@hotmail.com  michael24@hotmail.com                 0.908219   \n",
       "6    james45@hotmail.com    james37@hotmail.com                 0.908316   \n",
       "7    dbowers@hotmail.com     dbowen@hotmail.com                 0.912871   \n",
       "8    james45@hotmail.com    james60@hotmail.com                 0.907734   \n",
       "9  michael68@hotmail.com  michael40@hotmail.com                 0.906522   \n",
       "\n",
       "   similarityToNeighbor80  editDistanceToNeighbor80  neighborsEditLessThan2  \n",
       "0                0.958400                         5                      10  \n",
       "1                0.954953                         4                      54  \n",
       "2                0.955539                         2                      53  \n",
       "3                0.954174                         2                      71  \n",
       "4                0.955590                         2                      56  \n",
       "5                0.954387                         2                      58  \n",
       "6                0.954562                         5                      55  \n",
       "7                0.959227                         6                       6  \n",
       "8                0.954562                         5                      55  \n",
       "9                0.953381                         5                      64  "
      ]
     },
     "execution_count": 14,
     "metadata": {},
     "output_type": "execute_result"
    }
   ],
   "source": [
    "gds.run_cypher(\"\"\"\n",
    "MATCH (e)-[r]-(e2)\n",
    "WITH e, e2, \n",
    "max(CASE WHEN r:HAS_SIMILAR_ADDRESS THEN 1 ELSE 0 END) AS recordLinkageMatch, \n",
    "max(CASE WHEN r:HAS_SIMILAR_EMBEDDING THEN 1 ELSE 0 END) AS embeddingSimilarityMatch\n",
    "WITH e, e2, gds.similarity.cosine(e.editEmbedding, e2.editEmbedding) AS cosineSimilarity\n",
    "WHERE recordLinkageMatch = 1 AND embeddingSimilarityMatch = 0\n",
    "CALL {\n",
    "    WITH e, e2, cosineSimilarity\n",
    "    RETURN e2.address AS address2, cosineSimilarity AS similarity \n",
    "    ORDER BY similarity DESC\n",
    "    limit 1\n",
    "}\n",
    "CALL {\n",
    "  WITH e\n",
    "  CALL db.index.vector.queryNodes(\"emailEditEmbedding\", 81, e.editEmbedding) YIELD node, score\n",
    "  WITH\n",
    "  apoc.text.levenshteinDistance(e.address, node.address) AS levenshteinDistance,\n",
    "  node, score\n",
    "  ORDER BY score \n",
    "  WITH sum(CASE WHEN levenshteinDistance <= 2 THEN 1 else 0 END) AS neighborsEditLessThan2,\n",
    "  min(score) AS similarityToNeighbor80,\n",
    "  collect(levenshteinDistance) AS editDistances\n",
    "  RETURN similarityToNeighbor80, editDistances[0] AS editDistanceToNeighbor80, neighborsEditLessThan2\n",
    "}\n",
    "RETURN e.address AS address, address2, similarity AS similarityToMissedMatch, \n",
    "similarityToNeighbor80, editDistanceToNeighbor80, neighborsEditLessThan2\n",
    "ORDER BY similarityToNeighbor80 - similarityToMissedMatch LIMIT 10\"\"\")"
   ]
  },
  {
   "cell_type": "code",
   "execution_count": null,
   "id": "1fffc25a-ff1b-49cd-ab9f-63e566f053c8",
   "metadata": {},
   "outputs": [],
   "source": []
  }
 ],
 "metadata": {
  "kernelspec": {
   "display_name": "Python 3 (ipykernel)",
   "language": "python",
   "name": "python3"
  },
  "language_info": {
   "codemirror_mode": {
    "name": "ipython",
    "version": 3
   },
   "file_extension": ".py",
   "mimetype": "text/x-python",
   "name": "python",
   "nbconvert_exporter": "python",
   "pygments_lexer": "ipython3",
   "version": "3.10.14"
  }
 },
 "nbformat": 4,
 "nbformat_minor": 5
}
