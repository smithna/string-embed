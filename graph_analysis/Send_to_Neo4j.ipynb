{
 "cells": [
  {
   "cell_type": "code",
   "execution_count": 1,
   "id": "6fc91979-fa13-45d2-a3e9-fc4ab62cba20",
   "metadata": {},
   "outputs": [],
   "source": [
    "from graphdatascience import GraphDataScience\n",
    "from getpass import getpass\n",
    "import pandas as pd\n",
    "import numpy as np\n",
    "from time import perf_counter"
   ]
  },
  {
   "cell_type": "markdown",
   "id": "13304528-abdd-4a1c-a7e2-07b7e10c45d4",
   "metadata": {},
   "source": [
    "# Run string embed python code"
   ]
  },
  {
   "cell_type": "code",
   "execution_count": 2,
   "id": "3a70e998-1335-41c1-a79c-794fe1187093",
   "metadata": {},
   "outputs": [
    {
     "name": "stdout",
     "output_type": "stream",
     "text": [
      "/home/sagemaker-user/string-embed\n"
     ]
    }
   ],
   "source": [
    "%cd .."
   ]
  },
  {
   "cell_type": "code",
   "execution_count": 3,
   "id": "8f8c3595-757d-4578-9fd4-92decbbe3dd4",
   "metadata": {},
   "outputs": [],
   "source": [
    "start_time = perf_counter()"
   ]
  },
  {
   "cell_type": "code",
   "execution_count": 4,
   "id": "ea1d9dd7-e96a-432c-b0c5-62613e639057",
   "metadata": {},
   "outputs": [
    {
     "name": "stdout",
     "output_type": "stream",
     "text": [
      "2024-07-17 19:37:47.912984: I tensorflow/core/platform/cpu_feature_guard.cc:182] This TensorFlow binary is optimized to use available CPU instructions in performance-critical operations.\n",
      "To enable the following instructions: SSE4.1 SSE4.2 AVX AVX2 FMA, in other operations, rebuild TensorFlow with the appropriate compiler flags.\n",
      "/opt/conda/lib/python3.10/site-packages/huggingface_hub/file_download.py:1132: FutureWarning: `resume_download` is deprecated and will be removed in version 1.0.0. Downloads always resume when possible. If you want to force a new download, use `force_download=True`.\n",
      "  warnings.warn(\n",
      "# Loading time: 0.8150429725646973\n",
      "# shuffled index:  [117303  40009  15903 ... 122964  25047  81273]\n",
      "# Unique signature     : 39\n",
      "# Maximum length       : 44\n",
      "# Sampled Train Items  : 1000\n",
      "# Sampled Query Items  : 1000\n",
      "# Number of Base Items : 139286\n",
      "# Number of Items      : 141286\n",
      "# edit distance 1000x1000: 100%|██████████| 1000/1000 [00:00<00:00, 2173.59it/s]\n",
      "# Calculate edit distance time: 0.4646010398864746\n",
      "# sorting for KNN indices: 100%|█████████| 1000/1000 [00:00<00:00, 39935.86it/s]\n",
      "# edit distance 139286x1000: 100%|████| 139286/139286 [01:03<00:00, 2188.02it/s]\n",
      "# Calculate edit distance time: 63.67589807510376\n",
      "# sorting for KNN indices: 100%|███████████| 1000/1000 [00:03<00:00, 270.40it/s]\n",
      "# Epoch:  19 Time: 0.234 Loss: 0.056  r: 0.054 m: 0.065: 100%|█| 320/320 [00:06<\n",
      "# Training time: 6.529059648513794\n",
      "# batch embedding: 100%|██████████████████████████| 1/1 [00:00<00:00,  5.82it/s]\n",
      "# batch embedding: 100%|█████████████████████| 137/137 [00:01<00:00, 129.73it/s]\n",
      "# batch embedding: 100%|██████████████████████████| 1/1 [00:00<00:00,  5.52it/s]\n",
      "# Embedding time: 1.0972630977630615\n"
     ]
    }
   ],
   "source": [
    "!python main.py --dataset emails --nt 1000 --nq 1000 --epochs 20 --save-split --save-embed --save-model"
   ]
  },
  {
   "cell_type": "code",
   "execution_count": 5,
   "id": "d7f12c13-9e5f-46c1-95ea-bcf90df69985",
   "metadata": {},
   "outputs": [
    {
     "name": "stdout",
     "output_type": "stream",
     "text": [
      "92.63070385399988\n"
     ]
    }
   ],
   "source": [
    "end_time = perf_counter()\n",
    "print(end_time - start_time)"
   ]
  },
  {
   "cell_type": "markdown",
   "id": "11b81e5a-6688-4e51-8dc5-09adb5ad4c24",
   "metadata": {},
   "source": [
    "# Send results to Neo4j"
   ]
  },
  {
   "cell_type": "code",
   "execution_count": 6,
   "id": "44bb532d-291d-4531-9d80-c97517ed9366",
   "metadata": {},
   "outputs": [],
   "source": [
    "def build_data_df(dataset_name, property_name):\n",
    "    property_df = pd.read_csv(f\"data/{dataset_name}\", header=None)\n",
    "    property_df.columns=[property_name]\n",
    "\n",
    "    base_embedding = np.load(f'model/808/cnn/{dataset_name}/nt1000_nq1000/embedding_xb.npy')\n",
    "    train_embedding = np.load(f'model/808/cnn/{dataset_name}/nt1000_nq1000/embedding_xt.npy')\n",
    "    query_embedding = np.load(f'model/808/cnn/{dataset_name}/nt1000_nq1000/embedding_xq.npy')\n",
    "    embedding_df = pd.concat([pd.DataFrame(base_embedding), pd.DataFrame(train_embedding), pd.DataFrame(query_embedding)])\n",
    "\n",
    "    embedding_df['embedding'] = embedding_df.apply(lambda row: row.tolist(), axis=1)\n",
    "\n",
    "    base_index = train_embedding = np.load(f'model/808/cnn/{dataset_name}/nt1000_nq1000/base_idx.npy')\n",
    "    train_index = train_embedding = np.load(f'model/808/cnn/{dataset_name}/nt1000_nq1000/train_idx.npy')\n",
    "    query_index = train_embedding = np.load(f'model/808/cnn/{dataset_name}/nt1000_nq1000/query_idx.npy')\n",
    "\n",
    "    embedding_index = pd.concat([pd.Series(base_index), pd.Series(train_index), pd.Series(query_index)])\n",
    "    embedding_df.index = embedding_index\n",
    "\n",
    "    embedding_df = embedding_df['embedding'].copy()\n",
    "\n",
    "    data_df = property_df.merge(embedding_df, left_index=True, right_index=True)\n",
    "\n",
    "    data_df.loc[base_index, 'split'] = 'Base'\n",
    "    data_df.loc[train_index, 'split'] = 'Train'\n",
    "    data_df.loc[query_index, 'split'] = 'Query'\n",
    "\n",
    "    return data_df\n"
   ]
  },
  {
   "cell_type": "code",
   "execution_count": 7,
   "id": "a9f5cb2e-0def-43fa-a5c7-5022dba0f5ab",
   "metadata": {},
   "outputs": [],
   "source": [
    "email_df = build_data_df(\"emails\", \"address\")"
   ]
  },
  {
   "cell_type": "code",
   "execution_count": 8,
   "id": "fc6e0744-77e3-4fd9-89f7-d3e432913ca5",
   "metadata": {},
   "outputs": [
    {
     "data": {
      "text/html": [
       "<div>\n",
       "<style scoped>\n",
       "    .dataframe tbody tr th:only-of-type {\n",
       "        vertical-align: middle;\n",
       "    }\n",
       "\n",
       "    .dataframe tbody tr th {\n",
       "        vertical-align: top;\n",
       "    }\n",
       "\n",
       "    .dataframe thead th {\n",
       "        text-align: right;\n",
       "    }\n",
       "</style>\n",
       "<table border=\"1\" class=\"dataframe\">\n",
       "  <thead>\n",
       "    <tr style=\"text-align: right;\">\n",
       "      <th></th>\n",
       "      <th>address</th>\n",
       "      <th>embedding</th>\n",
       "      <th>split</th>\n",
       "    </tr>\n",
       "  </thead>\n",
       "  <tbody>\n",
       "    <tr>\n",
       "      <th>0</th>\n",
       "      <td>cooperjames@yahoo.com</td>\n",
       "      <td>[-0.04751335829496384, -0.039060041308403015, ...</td>\n",
       "      <td>Base</td>\n",
       "    </tr>\n",
       "    <tr>\n",
       "      <th>1</th>\n",
       "      <td>cindy24@hotmail.com</td>\n",
       "      <td>[-0.08039160817861557, -0.04634513705968857, 0...</td>\n",
       "      <td>Base</td>\n",
       "    </tr>\n",
       "    <tr>\n",
       "      <th>2</th>\n",
       "      <td>averyjohn@ruiz.com</td>\n",
       "      <td>[0.041277457028627396, -0.009661229327321053, ...</td>\n",
       "      <td>Base</td>\n",
       "    </tr>\n",
       "    <tr>\n",
       "      <th>3</th>\n",
       "      <td>santanachristopher@burns-robinson.com</td>\n",
       "      <td>[-0.1594521701335907, 0.16107752919197083, 0.1...</td>\n",
       "      <td>Base</td>\n",
       "    </tr>\n",
       "    <tr>\n",
       "      <th>4</th>\n",
       "      <td>alvarezsherri@gmail.com</td>\n",
       "      <td>[-0.044671107083559036, -0.08574065566062927, ...</td>\n",
       "      <td>Base</td>\n",
       "    </tr>\n",
       "  </tbody>\n",
       "</table>\n",
       "</div>"
      ],
      "text/plain": [
       "                                 address  \\\n",
       "0                  cooperjames@yahoo.com   \n",
       "1                    cindy24@hotmail.com   \n",
       "2                     averyjohn@ruiz.com   \n",
       "3  santanachristopher@burns-robinson.com   \n",
       "4                alvarezsherri@gmail.com   \n",
       "\n",
       "                                           embedding split  \n",
       "0  [-0.04751335829496384, -0.039060041308403015, ...  Base  \n",
       "1  [-0.08039160817861557, -0.04634513705968857, 0...  Base  \n",
       "2  [0.041277457028627396, -0.009661229327321053, ...  Base  \n",
       "3  [-0.1594521701335907, 0.16107752919197083, 0.1...  Base  \n",
       "4  [-0.044671107083559036, -0.08574065566062927, ...  Base  "
      ]
     },
     "execution_count": 8,
     "metadata": {},
     "output_type": "execute_result"
    }
   ],
   "source": [
    "email_df.head()"
   ]
  },
  {
   "cell_type": "code",
   "execution_count": 9,
   "id": "c27d2f9e-72c4-43e0-8d15-ba5eae92f5b5",
   "metadata": {},
   "outputs": [
    {
     "name": "stdin",
     "output_type": "stream",
     "text": [
      "neo4j password ········\n"
     ]
    }
   ],
   "source": [
    "neo4j_password = getpass(\"neo4j password\")"
   ]
  },
  {
   "cell_type": "code",
   "execution_count": 10,
   "id": "f752211c-3b71-44e6-9da7-f3093ded69dd",
   "metadata": {},
   "outputs": [
    {
     "name": "stderr",
     "output_type": "stream",
     "text": [
      "Received notification from DBMS server: {severity: WARNING} {code: Neo.ClientNotification.Statement.FeatureDeprecationWarning} {category: DEPRECATION} {title: This feature is deprecated and will be removed in future versions.} {description: The query used a deprecated field from a procedure. ('advertisedListenAddress' returned by 'gds.debug.arrow' is deprecated.)} {position: line: 1, column: 1, offset: 0} for query: 'CALL gds.debug.arrow()'\n",
      "Received notification from DBMS server: {severity: WARNING} {code: Neo.ClientNotification.Statement.FeatureDeprecationWarning} {category: DEPRECATION} {title: This feature is deprecated and will be removed in future versions.} {description: The query used a deprecated field from a procedure. ('serverLocation' returned by 'gds.debug.arrow' is deprecated.)} {position: line: 1, column: 1, offset: 0} for query: 'CALL gds.debug.arrow()'\n"
     ]
    }
   ],
   "source": [
    "gds = GraphDataScience(\"neo4j+s://3bddbcd7.databases.neo4j.io\", auth=(\"neo4j\", neo4j_password))"
   ]
  },
  {
   "cell_type": "code",
   "execution_count": 11,
   "id": "3c1e793c-cfb5-406b-b8dc-1e3dc5483f9a",
   "metadata": {},
   "outputs": [
    {
     "data": {
      "text/html": [
       "<div>\n",
       "<style scoped>\n",
       "    .dataframe tbody tr th:only-of-type {\n",
       "        vertical-align: middle;\n",
       "    }\n",
       "\n",
       "    .dataframe tbody tr th {\n",
       "        vertical-align: top;\n",
       "    }\n",
       "\n",
       "    .dataframe thead th {\n",
       "        text-align: right;\n",
       "    }\n",
       "</style>\n",
       "<table border=\"1\" class=\"dataframe\">\n",
       "  <thead>\n",
       "    <tr style=\"text-align: right;\">\n",
       "      <th></th>\n",
       "    </tr>\n",
       "  </thead>\n",
       "  <tbody>\n",
       "  </tbody>\n",
       "</table>\n",
       "</div>"
      ],
      "text/plain": [
       "Empty DataFrame\n",
       "Columns: []\n",
       "Index: []"
      ]
     },
     "execution_count": 11,
     "metadata": {},
     "output_type": "execute_result"
    }
   ],
   "source": [
    "gds.run_cypher(\"\"\"CREATE CONSTRAINT email_node_key IF NOT EXISTS FOR (e:Email) REQUIRE e.address IS NODE KEY\"\"\")"
   ]
  },
  {
   "cell_type": "code",
   "execution_count": 12,
   "id": "06ab5c8d-3c2c-4559-b506-d7cfde052523",
   "metadata": {},
   "outputs": [
    {
     "name": "stdout",
     "output_type": "stream",
     "text": [
      "66.8922534340004\n"
     ]
    }
   ],
   "source": [
    "start_time = perf_counter()\n",
    "gds.run_cypher(\"\"\"\n",
    "UNWIND $data AS row\n",
    "CALL {\n",
    "    WITH row\n",
    "    MERGE (e:Email {address:row['address']})\n",
    "    SET e.split = row['Split']\n",
    "    WITH row, e\n",
    "    CALL db.create.setNodeVectorProperty(e, 'editEmbedding', row['embedding']) \n",
    "} IN CONCURRENT TRANSACTIONS OF 10000 rows\"\"\",\n",
    "              {\"data\": email_df.to_dict(\"records\")})\n",
    "end_time = perf_counter()\n",
    "print(end_time - start_time)"
   ]
  },
  {
   "cell_type": "code",
   "execution_count": null,
   "id": "1a3e2938-5d3e-447d-8ccb-be07f0aac429",
   "metadata": {},
   "outputs": [],
   "source": []
  }
 ],
 "metadata": {
  "kernelspec": {
   "display_name": "Python 3 (ipykernel)",
   "language": "python",
   "name": "python3"
  },
  "language_info": {
   "codemirror_mode": {
    "name": "ipython",
    "version": 3
   },
   "file_extension": ".py",
   "mimetype": "text/x-python",
   "name": "python",
   "nbconvert_exporter": "python",
   "pygments_lexer": "ipython3",
   "version": "3.10.14"
  }
 },
 "nbformat": 4,
 "nbformat_minor": 5
}
