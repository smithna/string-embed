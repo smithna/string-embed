{
 "cells": [
  {
   "cell_type": "code",
   "execution_count": 2,
   "id": "35196e31-4e33-4d0d-97ee-b062a19bb4ba",
   "metadata": {},
   "outputs": [
    {
     "name": "stdout",
     "output_type": "stream",
     "text": [
      "Collecting Faker\n",
      "  Downloading Faker-26.0.0-py3-none-any.whl.metadata (15 kB)\n",
      "Requirement already satisfied: python-dateutil>=2.4 in /opt/conda/lib/python3.10/site-packages (from Faker) (2.9.0)\n",
      "Requirement already satisfied: six>=1.5 in /opt/conda/lib/python3.10/site-packages (from python-dateutil>=2.4->Faker) (1.16.0)\n",
      "Downloading Faker-26.0.0-py3-none-any.whl (1.8 MB)\n",
      "\u001b[2K   \u001b[90m━━━━━━━━━━━━━━━━━━━━━━━━━━━━━━━━━━━━━━━━\u001b[0m \u001b[32m1.8/1.8 MB\u001b[0m \u001b[31m19.3 MB/s\u001b[0m eta \u001b[36m0:00:00\u001b[0m00:01\u001b[0m0:01\u001b[0m\n",
      "\u001b[?25hInstalling collected packages: Faker\n",
      "Successfully installed Faker-26.0.0\n"
     ]
    }
   ],
   "source": [
    "!pip install Faker"
   ]
  },
  {
   "cell_type": "code",
   "execution_count": 3,
   "id": "de6272b8-b3f0-4d4f-99f3-7dbd329ece76",
   "metadata": {},
   "outputs": [],
   "source": [
    "from faker import Faker\n",
    "import pandas as pd"
   ]
  },
  {
   "cell_type": "code",
   "execution_count": 4,
   "id": "095f111a-e7bb-4847-b38a-a7d77bc7ca67",
   "metadata": {},
   "outputs": [],
   "source": [
    "fake = Faker()"
   ]
  },
  {
   "cell_type": "code",
   "execution_count": 5,
   "id": "ff14532c-c499-4972-abdf-ac31b668fadf",
   "metadata": {},
   "outputs": [],
   "source": [
    "emails = [fake.ascii_email() for i in range(0,100000)]"
   ]
  },
  {
   "cell_type": "code",
   "execution_count": 6,
   "id": "ee4c7a2c-9ed2-444d-9b0d-fb097c5486f0",
   "metadata": {},
   "outputs": [
    {
     "data": {
      "text/plain": [
       "['rhonda82@yahoo.com',\n",
       " 'mvelazquez@hotmail.com',\n",
       " 'sandrawilliams@chavez-morales.com',\n",
       " 'caleb08@pacheco.com',\n",
       " 'esmith@chen.com']"
      ]
     },
     "execution_count": 6,
     "metadata": {},
     "output_type": "execute_result"
    }
   ],
   "source": [
    "emails[:5]"
   ]
  },
  {
   "cell_type": "code",
   "execution_count": 7,
   "id": "d63fc76e-c89b-42d1-bcb6-8e7ae0d33249",
   "metadata": {},
   "outputs": [],
   "source": [
    "email_df = pd.DataFrame(emails)"
   ]
  },
  {
   "cell_type": "code",
   "execution_count": 8,
   "id": "ac5e5ac9-bced-426e-aff7-b393a7844555",
   "metadata": {},
   "outputs": [],
   "source": [
    "email_df.drop_duplicates(inplace=True)"
   ]
  },
  {
   "cell_type": "code",
   "execution_count": 9,
   "id": "211ad3c7-b29f-4f29-867f-421fe43bd56d",
   "metadata": {},
   "outputs": [
    {
     "data": {
      "text/plain": [
       "(95905, 1)"
      ]
     },
     "execution_count": 9,
     "metadata": {},
     "output_type": "execute_result"
    }
   ],
   "source": [
    "email_df.shape"
   ]
  },
  {
   "cell_type": "code",
   "execution_count": 11,
   "id": "4ada2b0a-c234-4163-aa48-d91e5c93435e",
   "metadata": {},
   "outputs": [],
   "source": [
    "email_df.to_csv(\"data/emails\", index=False, header=False)"
   ]
  },
  {
   "cell_type": "code",
   "execution_count": null,
   "id": "0a09c85a-3ccb-4297-b529-b079b65fb0e8",
   "metadata": {},
   "outputs": [],
   "source": []
  }
 ],
 "metadata": {
  "kernelspec": {
   "display_name": "Python 3 (ipykernel)",
   "language": "python",
   "name": "python3"
  },
  "language_info": {
   "codemirror_mode": {
    "name": "ipython",
    "version": 3
   },
   "file_extension": ".py",
   "mimetype": "text/x-python",
   "name": "python",
   "nbconvert_exporter": "python",
   "pygments_lexer": "ipython3",
   "version": "3.10.14"
  }
 },
 "nbformat": 4,
 "nbformat_minor": 5
}
