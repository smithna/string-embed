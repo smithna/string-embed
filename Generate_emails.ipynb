{
 "cells": [
  {
   "cell_type": "code",
   "execution_count": 5,
   "id": "de6272b8-b3f0-4d4f-99f3-7dbd329ece76",
   "metadata": {},
   "outputs": [],
   "source": [
    "from faker import Faker\n",
    "import pandas as pd"
   ]
  },
  {
   "cell_type": "code",
   "execution_count": null,
   "id": "095f111a-e7bb-4847-b38a-a7d77bc7ca67",
   "metadata": {},
   "outputs": [],
   "source": [
    "fake = Faker()"
   ]
  },
  {
   "cell_type": "code",
   "execution_count": 3,
   "id": "ff14532c-c499-4972-abdf-ac31b668fadf",
   "metadata": {},
   "outputs": [],
   "source": [
    "emails = [fake.ascii_email() for i in range(0,100000)]"
   ]
  },
  {
   "cell_type": "code",
   "execution_count": 4,
   "id": "ee4c7a2c-9ed2-444d-9b0d-fb097c5486f0",
   "metadata": {},
   "outputs": [
    {
     "data": {
      "text/plain": [
       "['johnbrooks@hotmail.com',\n",
       " 'kellyalejandra@potter.net',\n",
       " 'teresa28@roach.com',\n",
       " 'roweamy@martinez-douglas.com',\n",
       " 'sjennings@rivera.com']"
      ]
     },
     "execution_count": 4,
     "metadata": {},
     "output_type": "execute_result"
    }
   ],
   "source": [
    "emails[:5]"
   ]
  },
  {
   "cell_type": "code",
   "execution_count": 7,
   "id": "d63fc76e-c89b-42d1-bcb6-8e7ae0d33249",
   "metadata": {},
   "outputs": [],
   "source": [
    "email_df = pd.DataFrame(emails)"
   ]
  },
  {
   "cell_type": "code",
   "execution_count": 9,
   "id": "ac5e5ac9-bced-426e-aff7-b393a7844555",
   "metadata": {},
   "outputs": [],
   "source": [
    "email_df.drop_duplicates(inplace=True)"
   ]
  },
  {
   "cell_type": "code",
   "execution_count": 10,
   "id": "211ad3c7-b29f-4f29-867f-421fe43bd56d",
   "metadata": {},
   "outputs": [
    {
     "data": {
      "text/plain": [
       "(95785, 1)"
      ]
     },
     "execution_count": 10,
     "metadata": {},
     "output_type": "execute_result"
    }
   ],
   "source": [
    "email_df.shape"
   ]
  },
  {
   "cell_type": "code",
   "execution_count": 12,
   "id": "4ada2b0a-c234-4163-aa48-d91e5c93435e",
   "metadata": {},
   "outputs": [],
   "source": [
    "email_df.to_csv(\"data/emails.csv\", index=False, header=False)"
   ]
  },
  {
   "cell_type": "code",
   "execution_count": 13,
   "id": "6e16fa36-824c-4a76-a380-ecf5b6ce8fd5",
   "metadata": {},
   "outputs": [
    {
     "ename": "NameError",
     "evalue": "name 'torch' is not defined",
     "output_type": "error",
     "traceback": [
      "\u001b[0;31m---------------------------------------------------------------------------\u001b[0m",
      "\u001b[0;31mNameError\u001b[0m                                 Traceback (most recent call last)",
      "Cell \u001b[0;32mIn[13], line 2\u001b[0m\n\u001b[1;32m      1\u001b[0m \u001b[38;5;28;01mimport\u001b[39;00m \u001b[38;5;21;01mtime\u001b[39;00m\n\u001b[0;32m----> 2\u001b[0m \u001b[43mtorch\u001b[49m\u001b[38;5;241m.\u001b[39mmanual_seed(time\u001b[38;5;241m.\u001b[39mtime())\n",
      "\u001b[0;31mNameError\u001b[0m: name 'torch' is not defined"
     ]
    }
   ],
   "source": []
  },
  {
   "cell_type": "code",
   "execution_count": null,
   "id": "2b9bf953-a188-4c79-a89e-7fbcf49c1823",
   "metadata": {},
   "outputs": [],
   "source": []
  }
 ],
 "metadata": {
  "kernelspec": {
   "display_name": "Python 3 (ipykernel)",
   "language": "python",
   "name": "python3"
  },
  "language_info": {
   "codemirror_mode": {
    "name": "ipython",
    "version": 3
   },
   "file_extension": ".py",
   "mimetype": "text/x-python",
   "name": "python",
   "nbconvert_exporter": "python",
   "pygments_lexer": "ipython3",
   "version": "3.10.14"
  }
 },
 "nbformat": 4,
 "nbformat_minor": 5
}
