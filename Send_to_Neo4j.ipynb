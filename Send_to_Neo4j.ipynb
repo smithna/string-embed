{
 "cells": [
  {
   "cell_type": "code",
   "execution_count": 1,
   "id": "6794bd1b-9ac4-42c2-a601-cc817e64fd19",
   "metadata": {},
   "outputs": [
    {
     "name": "stdout",
     "output_type": "stream",
     "text": [
      "Collecting graphdatascience\n",
      "  Using cached graphdatascience-1.10-py3-none-any.whl.metadata (7.7 kB)\n",
      "Collecting multimethod<2.0,>=1.0 (from graphdatascience)\n",
      "  Using cached multimethod-1.12-py3-none-any.whl.metadata (9.6 kB)\n",
      "Collecting neo4j<6.0,>=4.4.2 (from graphdatascience)\n",
      "  Using cached neo4j-5.22.0-py3-none-any.whl.metadata (5.7 kB)\n",
      "Requirement already satisfied: pandas<3.0,>=1.0 in /opt/conda/lib/python3.10/site-packages (from graphdatascience) (2.1.4)\n",
      "Requirement already satisfied: pyarrow<16.0,>=11.0 in /opt/conda/lib/python3.10/site-packages (from graphdatascience) (15.0.0)\n",
      "Collecting textdistance<5.0,>=4.0 (from graphdatascience)\n",
      "  Using cached textdistance-4.6.2-py3-none-any.whl.metadata (18 kB)\n",
      "Requirement already satisfied: tqdm<5.0,>=4.0 in /opt/conda/lib/python3.10/site-packages (from graphdatascience) (4.66.4)\n",
      "Requirement already satisfied: typing-extensions<5.0,>=4.0 in /opt/conda/lib/python3.10/site-packages (from graphdatascience) (4.12.2)\n",
      "Requirement already satisfied: requests in /opt/conda/lib/python3.10/site-packages (from graphdatascience) (2.32.3)\n",
      "Requirement already satisfied: pytz in /opt/conda/lib/python3.10/site-packages (from neo4j<6.0,>=4.4.2->graphdatascience) (2023.3)\n",
      "Requirement already satisfied: numpy<2,>=1.22.4 in /opt/conda/lib/python3.10/site-packages (from pandas<3.0,>=1.0->graphdatascience) (1.26.4)\n",
      "Requirement already satisfied: python-dateutil>=2.8.2 in /opt/conda/lib/python3.10/site-packages (from pandas<3.0,>=1.0->graphdatascience) (2.9.0)\n",
      "Requirement already satisfied: tzdata>=2022.1 in /opt/conda/lib/python3.10/site-packages (from pandas<3.0,>=1.0->graphdatascience) (2024.1)\n",
      "Requirement already satisfied: charset-normalizer<4,>=2 in /opt/conda/lib/python3.10/site-packages (from requests->graphdatascience) (3.3.2)\n",
      "Requirement already satisfied: idna<4,>=2.5 in /opt/conda/lib/python3.10/site-packages (from requests->graphdatascience) (3.7)\n",
      "Requirement already satisfied: urllib3<3,>=1.21.1 in /opt/conda/lib/python3.10/site-packages (from requests->graphdatascience) (1.26.19)\n",
      "Requirement already satisfied: certifi>=2017.4.17 in /opt/conda/lib/python3.10/site-packages (from requests->graphdatascience) (2024.6.2)\n",
      "Requirement already satisfied: six>=1.5 in /opt/conda/lib/python3.10/site-packages (from python-dateutil>=2.8.2->pandas<3.0,>=1.0->graphdatascience) (1.16.0)\n",
      "Using cached graphdatascience-1.10-py3-none-any.whl (1.6 MB)\n",
      "Using cached multimethod-1.12-py3-none-any.whl (10 kB)\n",
      "Using cached neo4j-5.22.0-py3-none-any.whl (293 kB)\n",
      "Using cached textdistance-4.6.2-py3-none-any.whl (31 kB)\n",
      "Installing collected packages: textdistance, neo4j, multimethod, graphdatascience\n",
      "Successfully installed graphdatascience-1.10 multimethod-1.12 neo4j-5.22.0 textdistance-4.6.2\n"
     ]
    }
   ],
   "source": [
    "!pip install graphdatascience "
   ]
  },
  {
   "cell_type": "code",
   "execution_count": 2,
   "id": "1c755217-a4f6-4df1-a4e0-a3fc92074374",
   "metadata": {},
   "outputs": [
    {
     "name": "stdout",
     "output_type": "stream",
     "text": [
      "Collecting python-Levenshtein\n",
      "  Using cached python_Levenshtein-0.25.1-py3-none-any.whl.metadata (3.7 kB)\n",
      "Collecting Levenshtein==0.25.1 (from python-Levenshtein)\n",
      "  Using cached Levenshtein-0.25.1-cp310-cp310-manylinux_2_17_x86_64.manylinux2014_x86_64.whl.metadata (3.3 kB)\n",
      "Collecting rapidfuzz<4.0.0,>=3.8.0 (from Levenshtein==0.25.1->python-Levenshtein)\n",
      "  Using cached rapidfuzz-3.9.4-cp310-cp310-manylinux_2_17_x86_64.manylinux2014_x86_64.whl.metadata (12 kB)\n",
      "Using cached python_Levenshtein-0.25.1-py3-none-any.whl (9.4 kB)\n",
      "Using cached Levenshtein-0.25.1-cp310-cp310-manylinux_2_17_x86_64.manylinux2014_x86_64.whl (177 kB)\n",
      "Using cached rapidfuzz-3.9.4-cp310-cp310-manylinux_2_17_x86_64.manylinux2014_x86_64.whl (3.4 MB)\n",
      "Installing collected packages: rapidfuzz, Levenshtein, python-Levenshtein\n",
      "Successfully installed Levenshtein-0.25.1 python-Levenshtein-0.25.1 rapidfuzz-3.9.4\n"
     ]
    }
   ],
   "source": [
    "!pip install python-Levenshtein"
   ]
  },
  {
   "cell_type": "code",
   "execution_count": 3,
   "id": "6fc91979-fa13-45d2-a3e9-fc4ab62cba20",
   "metadata": {},
   "outputs": [],
   "source": [
    "from graphdatascience import GraphDataScience\n",
    "from getpass import getpass\n",
    "import pandas as pd\n",
    "import numpy as np"
   ]
  },
  {
   "cell_type": "code",
   "execution_count": 7,
   "id": "ea1d9dd7-e96a-432c-b0c5-62613e639057",
   "metadata": {},
   "outputs": [
    {
     "name": "stdout",
     "output_type": "stream",
     "text": [
      "2024-07-07 18:54:29.163901: I tensorflow/core/platform/cpu_feature_guard.cc:182] This TensorFlow binary is optimized to use available CPU instructions in performance-critical operations.\n",
      "To enable the following instructions: SSE4.1 SSE4.2 AVX AVX2 AVX512F FMA, in other operations, rebuild TensorFlow with the appropriate compiler flags.\n",
      "/opt/conda/lib/python3.10/site-packages/huggingface_hub/file_download.py:1132: FutureWarning: `resume_download` is deprecated and will be removed in version 1.0.0. Downloads always resume when possible. If you want to force a new download, use `force_download=True`.\n",
      "  warnings.warn(\n",
      "# Loading time: 0.6244535446166992\n",
      "# loading indices from file\n",
      "# Unique signature     : 39\n",
      "# Maximum length       : 44\n",
      "# Sampled Train Items  : 1000\n",
      "# Sampled Query Items  : 1000\n",
      "# Number of Base Items : 93905\n",
      "# Number of Items      : 95905\n",
      "# loading dist and knn from file\n",
      "# train dist : (1000, 1000)\n",
      "# query dist : (1000, 93905)\n",
      "/opt/conda/lib/python3.10/site-packages/torch/utils/data/dataloader.py:561: UserWarning: This DataLoader will create 4 worker processes in total. Our suggested max number of worker in current system is 2, which is smaller than what this DataLoader is going to create. Please be aware that excessive worker creation might get DataLoader running slow or even freeze, lower the worker number to avoid potential slowness/freeze if necessary.\n",
      "  warnings.warn(_create_warning_msg(\n",
      "# batch embedding: 100%|██████████████████████████| 1/1 [00:01<00:00,  1.15s/it]\n",
      "# batch embedding: 100%|████████████████████████| 92/92 [00:40<00:00,  2.29it/s]\n",
      "# batch embedding: 100%|██████████████████████████| 1/1 [00:00<00:00,  1.22it/s]\n",
      "# Embedding time: 40.18893504142761\n"
     ]
    }
   ],
   "source": [
    "!python main.py --dataset emails --nt 1000 --nq 1000 --epochs 20 --save-split --recall --save-embed --save-model"
   ]
  },
  {
   "cell_type": "code",
   "execution_count": 4,
   "id": "c93f9951-d711-4a0d-a97b-1b604f6bdacf",
   "metadata": {},
   "outputs": [],
   "source": [
    "email_df = pd.read_csv(\"data/emails\", header=None)\n",
    "email_df.columns=['email']"
   ]
  },
  {
   "cell_type": "code",
   "execution_count": 5,
   "id": "8a800b4c-582e-418a-b3e2-8e96138dc65b",
   "metadata": {},
   "outputs": [
    {
     "data": {
      "text/html": [
       "<div>\n",
       "<style scoped>\n",
       "    .dataframe tbody tr th:only-of-type {\n",
       "        vertical-align: middle;\n",
       "    }\n",
       "\n",
       "    .dataframe tbody tr th {\n",
       "        vertical-align: top;\n",
       "    }\n",
       "\n",
       "    .dataframe thead th {\n",
       "        text-align: right;\n",
       "    }\n",
       "</style>\n",
       "<table border=\"1\" class=\"dataframe\">\n",
       "  <thead>\n",
       "    <tr style=\"text-align: right;\">\n",
       "      <th></th>\n",
       "      <th>email</th>\n",
       "    </tr>\n",
       "  </thead>\n",
       "  <tbody>\n",
       "    <tr>\n",
       "      <th>0</th>\n",
       "      <td>rhonda82@yahoo.com</td>\n",
       "    </tr>\n",
       "    <tr>\n",
       "      <th>1</th>\n",
       "      <td>mvelazquez@hotmail.com</td>\n",
       "    </tr>\n",
       "    <tr>\n",
       "      <th>2</th>\n",
       "      <td>sandrawilliams@chavez-morales.com</td>\n",
       "    </tr>\n",
       "    <tr>\n",
       "      <th>3</th>\n",
       "      <td>caleb08@pacheco.com</td>\n",
       "    </tr>\n",
       "    <tr>\n",
       "      <th>4</th>\n",
       "      <td>esmith@chen.com</td>\n",
       "    </tr>\n",
       "  </tbody>\n",
       "</table>\n",
       "</div>"
      ],
      "text/plain": [
       "                               email\n",
       "0                 rhonda82@yahoo.com\n",
       "1             mvelazquez@hotmail.com\n",
       "2  sandrawilliams@chavez-morales.com\n",
       "3                caleb08@pacheco.com\n",
       "4                    esmith@chen.com"
      ]
     },
     "execution_count": 5,
     "metadata": {},
     "output_type": "execute_result"
    }
   ],
   "source": [
    "email_df.head()"
   ]
  },
  {
   "cell_type": "code",
   "execution_count": 15,
   "id": "aa16d0e2-fdbb-4c0b-a4a7-e002edacbe2e",
   "metadata": {},
   "outputs": [
    {
     "name": "stdout",
     "output_type": "stream",
     "text": [
      "base_idx.npy  query_dist.npy  query_knn.npy   train_idx.npy\n",
      "model.torch   query_idx.npy   train_dist.npy  train_knn.npy\n"
     ]
    }
   ],
   "source": [
    "!ls model/808/cnn/emails/nt1000_nq1000"
   ]
  },
  {
   "cell_type": "code",
   "execution_count": 8,
   "id": "a9c5c88c-d39d-46ef-91dd-a337b969145a",
   "metadata": {},
   "outputs": [],
   "source": [
    "base_embedding = np.load('model/808/cnn/emails/nt1000_nq1000/embedding_xb.npy')\n",
    "train_embedding = np.load('model/808/cnn/emails/nt1000_nq1000/embedding_xt.npy')\n",
    "query_embedding = np.load('model/808/cnn/emails/nt1000_nq1000/embedding_xq.npy')"
   ]
  },
  {
   "cell_type": "code",
   "execution_count": 9,
   "id": "f6431737-9457-4a56-be11-d9c681042890",
   "metadata": {},
   "outputs": [],
   "source": [
    "embedding_df = pd.concat([pd.DataFrame(base_embedding), pd.DataFrame(train_embedding), pd.DataFrame(query_embedding)])"
   ]
  },
  {
   "cell_type": "code",
   "execution_count": 10,
   "id": "3312d6f1-bfc3-4c54-a5fa-5c6f0872f240",
   "metadata": {},
   "outputs": [],
   "source": [
    "base_index = train_embedding = np.load('model/808/cnn/emails/nt1000_nq1000/base_idx.npy')\n",
    "train_index = train_embedding = np.load('model/808/cnn/emails/nt1000_nq1000/train_idx.npy')\n",
    "query_index = train_embedding = np.load('model/808/cnn/emails/nt1000_nq1000/query_idx.npy')"
   ]
  },
  {
   "cell_type": "code",
   "execution_count": 11,
   "id": "1e60fc72-6372-4cd8-8333-809592fa0f7b",
   "metadata": {},
   "outputs": [],
   "source": [
    "embedding_index = pd.concat([pd.Series(base_index), pd.Series(train_index), pd.Series(query_index)])"
   ]
  },
  {
   "cell_type": "code",
   "execution_count": 12,
   "id": "73fbff0e-97f6-41a7-9425-79e78913c6a7",
   "metadata": {},
   "outputs": [],
   "source": [
    "embedding_df.index = embedding_index"
   ]
  },
  {
   "cell_type": "code",
   "execution_count": 13,
   "id": "6c9128a0-3097-494d-8b2a-7ccca6ed97a0",
   "metadata": {},
   "outputs": [],
   "source": [
    "embedding_df['embedding'] = embedding_df.apply(lambda row: row.tolist(), axis=1)"
   ]
  },
  {
   "cell_type": "code",
   "execution_count": 14,
   "id": "cf811a95-fee6-4e19-8926-5588653daedf",
   "metadata": {},
   "outputs": [],
   "source": [
    "embedding_df = embedding_df['embedding'].copy()"
   ]
  },
  {
   "cell_type": "code",
   "execution_count": 15,
   "id": "c6bd221c-ae94-4d96-aedf-642409b3c189",
   "metadata": {},
   "outputs": [],
   "source": [
    "embedding_df = email_df.merge(embedding_df, left_index=True, right_index=True)"
   ]
  },
  {
   "cell_type": "code",
   "execution_count": 16,
   "id": "e923dc1f-5f70-4129-a7be-4071b1eab0a0",
   "metadata": {},
   "outputs": [
    {
     "data": {
      "text/html": [
       "<div>\n",
       "<style scoped>\n",
       "    .dataframe tbody tr th:only-of-type {\n",
       "        vertical-align: middle;\n",
       "    }\n",
       "\n",
       "    .dataframe tbody tr th {\n",
       "        vertical-align: top;\n",
       "    }\n",
       "\n",
       "    .dataframe thead th {\n",
       "        text-align: right;\n",
       "    }\n",
       "</style>\n",
       "<table border=\"1\" class=\"dataframe\">\n",
       "  <thead>\n",
       "    <tr style=\"text-align: right;\">\n",
       "      <th></th>\n",
       "      <th>email</th>\n",
       "      <th>embedding</th>\n",
       "    </tr>\n",
       "  </thead>\n",
       "  <tbody>\n",
       "    <tr>\n",
       "      <th>0</th>\n",
       "      <td>rhonda82@yahoo.com</td>\n",
       "      <td>[-0.03655370697379112, -0.04969412460923195, -...</td>\n",
       "    </tr>\n",
       "    <tr>\n",
       "      <th>1</th>\n",
       "      <td>mvelazquez@hotmail.com</td>\n",
       "      <td>[-0.02047136053442955, -0.04047189652919769, -...</td>\n",
       "    </tr>\n",
       "    <tr>\n",
       "      <th>2</th>\n",
       "      <td>sandrawilliams@chavez-morales.com</td>\n",
       "      <td>[-0.04562493786215782, -0.08655732125043869, 0...</td>\n",
       "    </tr>\n",
       "    <tr>\n",
       "      <th>3</th>\n",
       "      <td>caleb08@pacheco.com</td>\n",
       "      <td>[0.0035057964269071817, -0.027541927993297577,...</td>\n",
       "    </tr>\n",
       "    <tr>\n",
       "      <th>4</th>\n",
       "      <td>esmith@chen.com</td>\n",
       "      <td>[0.0009165378869511187, -0.04006942734122276, ...</td>\n",
       "    </tr>\n",
       "  </tbody>\n",
       "</table>\n",
       "</div>"
      ],
      "text/plain": [
       "                               email  \\\n",
       "0                 rhonda82@yahoo.com   \n",
       "1             mvelazquez@hotmail.com   \n",
       "2  sandrawilliams@chavez-morales.com   \n",
       "3                caleb08@pacheco.com   \n",
       "4                    esmith@chen.com   \n",
       "\n",
       "                                           embedding  \n",
       "0  [-0.03655370697379112, -0.04969412460923195, -...  \n",
       "1  [-0.02047136053442955, -0.04047189652919769, -...  \n",
       "2  [-0.04562493786215782, -0.08655732125043869, 0...  \n",
       "3  [0.0035057964269071817, -0.027541927993297577,...  \n",
       "4  [0.0009165378869511187, -0.04006942734122276, ...  "
      ]
     },
     "execution_count": 16,
     "metadata": {},
     "output_type": "execute_result"
    }
   ],
   "source": [
    "embedding_df.head()"
   ]
  },
  {
   "cell_type": "code",
   "execution_count": 19,
   "id": "72841182-0378-4bc6-9942-467bbb5765df",
   "metadata": {},
   "outputs": [],
   "source": [
    "embedding_df.loc[base_index, 'Split'] = 'Base'\n",
    "embedding_df.loc[train_index, 'Split'] = 'Train'\n",
    "embedding_df.loc[query_index, 'Split'] = 'Query'"
   ]
  },
  {
   "cell_type": "code",
   "execution_count": 22,
   "id": "c27d2f9e-72c4-43e0-8d15-ba5eae92f5b5",
   "metadata": {},
   "outputs": [
    {
     "name": "stdin",
     "output_type": "stream",
     "text": [
      "neo4j password ········\n"
     ]
    }
   ],
   "source": [
    "neo4j_password = getpass(\"neo4j password\")"
   ]
  },
  {
   "cell_type": "code",
   "execution_count": 23,
   "id": "501d9415-1f62-47ed-b452-42ce9570231f",
   "metadata": {},
   "outputs": [
    {
     "name": "stderr",
     "output_type": "stream",
     "text": [
      "Received notification from DBMS server: {severity: WARNING} {code: Neo.ClientNotification.Statement.FeatureDeprecationWarning} {category: DEPRECATION} {title: This feature is deprecated and will be removed in future versions.} {description: The query used a deprecated field from a procedure. ('advertisedListenAddress' returned by 'gds.debug.arrow' is deprecated.)} {position: line: 1, column: 1, offset: 0} for query: 'CALL gds.debug.arrow()'\n",
      "Received notification from DBMS server: {severity: WARNING} {code: Neo.ClientNotification.Statement.FeatureDeprecationWarning} {category: DEPRECATION} {title: This feature is deprecated and will be removed in future versions.} {description: The query used a deprecated field from a procedure. ('serverLocation' returned by 'gds.debug.arrow' is deprecated.)} {position: line: 1, column: 1, offset: 0} for query: 'CALL gds.debug.arrow()'\n"
     ]
    }
   ],
   "source": [
    "gds = GraphDataScience(\"neo4j+s://3bddbcd7.databases.neo4j.io\", auth=(\"neo4j\", neo4j_password))"
   ]
  },
  {
   "cell_type": "code",
   "execution_count": 24,
   "id": "1eb7de05-6d85-44a5-985c-955b1df7664d",
   "metadata": {},
   "outputs": [
    {
     "data": {
      "text/html": [
       "<div>\n",
       "<style scoped>\n",
       "    .dataframe tbody tr th:only-of-type {\n",
       "        vertical-align: middle;\n",
       "    }\n",
       "\n",
       "    .dataframe tbody tr th {\n",
       "        vertical-align: top;\n",
       "    }\n",
       "\n",
       "    .dataframe thead th {\n",
       "        text-align: right;\n",
       "    }\n",
       "</style>\n",
       "<table border=\"1\" class=\"dataframe\">\n",
       "  <thead>\n",
       "    <tr style=\"text-align: right;\">\n",
       "      <th></th>\n",
       "    </tr>\n",
       "  </thead>\n",
       "  <tbody>\n",
       "  </tbody>\n",
       "</table>\n",
       "</div>"
      ],
      "text/plain": [
       "Empty DataFrame\n",
       "Columns: []\n",
       "Index: []"
      ]
     },
     "execution_count": 24,
     "metadata": {},
     "output_type": "execute_result"
    }
   ],
   "source": [
    "gds.run_cypher(\"\"\"CREATE CONSTRAINT email_node_key FOR (e:Email) REQUIRE e.address IS NODE KEY\"\"\")"
   ]
  },
  {
   "cell_type": "code",
   "execution_count": 25,
   "id": "06ab5c8d-3c2c-4559-b506-d7cfde052523",
   "metadata": {},
   "outputs": [
    {
     "data": {
      "text/html": [
       "<div>\n",
       "<style scoped>\n",
       "    .dataframe tbody tr th:only-of-type {\n",
       "        vertical-align: middle;\n",
       "    }\n",
       "\n",
       "    .dataframe tbody tr th {\n",
       "        vertical-align: top;\n",
       "    }\n",
       "\n",
       "    .dataframe thead th {\n",
       "        text-align: right;\n",
       "    }\n",
       "</style>\n",
       "<table border=\"1\" class=\"dataframe\">\n",
       "  <thead>\n",
       "    <tr style=\"text-align: right;\">\n",
       "      <th></th>\n",
       "    </tr>\n",
       "  </thead>\n",
       "  <tbody>\n",
       "  </tbody>\n",
       "</table>\n",
       "</div>"
      ],
      "text/plain": [
       "Empty DataFrame\n",
       "Columns: []\n",
       "Index: []"
      ]
     },
     "execution_count": 25,
     "metadata": {},
     "output_type": "execute_result"
    }
   ],
   "source": [
    "gds.run_cypher(\"\"\"\n",
    "UNWIND $data AS row\n",
    "CALL {\n",
    "    WITH row\n",
    "    MERGE (e:Email {address:row['email']})\n",
    "    SET e.split = row['Split']\n",
    "    WITH row, e\n",
    "    CALL db.create.setNodeVectorProperty(e, 'editEmbedding', row['embedding']) \n",
    "} IN CONCURRENT TRANSACTIONS OF 10000 rows\"\"\",\n",
    "              {\"data\": embedding_df.to_dict(\"records\")})"
   ]
  },
  {
   "cell_type": "code",
   "execution_count": null,
   "id": "977a6524-6dce-4c94-98d5-02789c3e8302",
   "metadata": {},
   "outputs": [],
   "source": []
  }
 ],
 "metadata": {
  "kernelspec": {
   "display_name": "Python 3 (ipykernel)",
   "language": "python",
   "name": "python3"
  },
  "language_info": {
   "codemirror_mode": {
    "name": "ipython",
    "version": 3
   },
   "file_extension": ".py",
   "mimetype": "text/x-python",
   "name": "python",
   "nbconvert_exporter": "python",
   "pygments_lexer": "ipython3",
   "version": "3.10.14"
  }
 },
 "nbformat": 4,
 "nbformat_minor": 5
}
