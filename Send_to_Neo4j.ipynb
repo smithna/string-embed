{
 "cells": [
  {
   "cell_type": "code",
   "execution_count": 11,
   "id": "6fc91979-fa13-45d2-a3e9-fc4ab62cba20",
   "metadata": {},
   "outputs": [],
   "source": [
    "from graphdatascience import GraphDataScience\n",
    "from getpass import getpass\n",
    "import pandas as pd\n",
    "import numpy as np"
   ]
  },
  {
   "cell_type": "code",
   "execution_count": 7,
   "id": "ea1d9dd7-e96a-432c-b0c5-62613e639057",
   "metadata": {},
   "outputs": [
    {
     "name": "stdout",
     "output_type": "stream",
     "text": [
      "2024-07-07 18:54:29.163901: I tensorflow/core/platform/cpu_feature_guard.cc:182] This TensorFlow binary is optimized to use available CPU instructions in performance-critical operations.\n",
      "To enable the following instructions: SSE4.1 SSE4.2 AVX AVX2 AVX512F FMA, in other operations, rebuild TensorFlow with the appropriate compiler flags.\n",
      "/opt/conda/lib/python3.10/site-packages/huggingface_hub/file_download.py:1132: FutureWarning: `resume_download` is deprecated and will be removed in version 1.0.0. Downloads always resume when possible. If you want to force a new download, use `force_download=True`.\n",
      "  warnings.warn(\n",
      "# Loading time: 0.6244535446166992\n",
      "# loading indices from file\n",
      "# Unique signature     : 39\n",
      "# Maximum length       : 44\n",
      "# Sampled Train Items  : 1000\n",
      "# Sampled Query Items  : 1000\n",
      "# Number of Base Items : 93905\n",
      "# Number of Items      : 95905\n",
      "# loading dist and knn from file\n",
      "# train dist : (1000, 1000)\n",
      "# query dist : (1000, 93905)\n",
      "/opt/conda/lib/python3.10/site-packages/torch/utils/data/dataloader.py:561: UserWarning: This DataLoader will create 4 worker processes in total. Our suggested max number of worker in current system is 2, which is smaller than what this DataLoader is going to create. Please be aware that excessive worker creation might get DataLoader running slow or even freeze, lower the worker number to avoid potential slowness/freeze if necessary.\n",
      "  warnings.warn(_create_warning_msg(\n",
      "# batch embedding: 100%|██████████████████████████| 1/1 [00:01<00:00,  1.15s/it]\n",
      "# batch embedding: 100%|████████████████████████| 92/92 [00:40<00:00,  2.29it/s]\n",
      "# batch embedding: 100%|██████████████████████████| 1/1 [00:00<00:00,  1.22it/s]\n",
      "# Embedding time: 40.18893504142761\n"
     ]
    }
   ],
   "source": [
    "!python main.py --dataset emails --nt 1000 --nq 1000 --epochs 20 --save-split --recall --save-embed --save-model"
   ]
  },
  {
   "cell_type": "code",
   "execution_count": 7,
   "id": "37869fc8-7c77-4aa2-818a-c518ebafc48f",
   "metadata": {},
   "outputs": [
    {
     "name": "stdout",
     "output_type": "stream",
     "text": [
      "2024-07-08 16:01:49.049096: I tensorflow/core/platform/cpu_feature_guard.cc:182] This TensorFlow binary is optimized to use available CPU instructions in performance-critical operations.\n",
      "To enable the following instructions: SSE4.1 SSE4.2 AVX AVX2 FMA, in other operations, rebuild TensorFlow with the appropriate compiler flags.\n",
      "/opt/conda/lib/python3.10/site-packages/huggingface_hub/file_download.py:1132: FutureWarning: `resume_download` is deprecated and will be removed in version 1.0.0. Downloads always resume when possible. If you want to force a new download, use `force_download=True`.\n",
      "  warnings.warn(\n",
      "# Loading time: 0.24382495880126953\n",
      "# loading indices from file\n",
      "# Unique signature     : 11\n",
      "# Maximum length       : 12\n",
      "# Sampled Train Items  : 1000\n",
      "# Sampled Query Items  : 1000\n",
      "# Number of Base Items : 97990\n",
      "# Number of Items      : 99990\n",
      "# edit distance 1000x1000: 100%|██████████| 1000/1000 [00:00<00:00, 2485.90it/s]\n",
      "# Calculate edit distance time: 0.40700721740722656\n",
      "# sorting for KNN indices: 100%|█████████| 1000/1000 [00:00<00:00, 53727.67it/s]\n",
      "# edit distance 97990x1000: 100%|███████| 97990/97990 [00:39<00:00, 2466.28it/s]\n",
      "# Calculate edit distance time: 39.74365019798279\n",
      "# sorting for KNN indices: 100%|███████████| 1000/1000 [00:01<00:00, 570.94it/s]\n",
      "# Epoch:  19 Time: 0.192 Loss: 0.048  r: 0.046 m: 0.025: 100%|█| 320/320 [00:05<\n",
      "# Training time: 6.046420335769653\n",
      "# batch embedding: 100%|██████████████████████████| 1/1 [00:00<00:00,  6.07it/s]\n",
      "# batch embedding: 100%|███████████████████████| 96/96 [00:00<00:00, 200.72it/s]\n",
      "# batch embedding: 100%|██████████████████████████| 1/1 [00:00<00:00,  6.26it/s]\n",
      "# Embedding time: 0.4988579750061035\n",
      "# Probed \t Items \ttop-1\ttop-5\ttop-10\ttop-20\ttop-50\ttop-100\ttop-1000\t\n",
      "     1 \t      1 \t0.3000 \t0.1276 \t0.0775 \t0.0405 \t0.0173 \t0.0096 \t0.0010 \t\n",
      "     2 \t      2 \t0.3960 \t0.2196 \t0.1405 \t0.0747 \t0.0330 \t0.0190 \t0.0020 \t\n",
      "     4 \t      4 \t0.5140 \t0.3532 \t0.2372 \t0.1289 \t0.0603 \t0.0368 \t0.0040 \t\n",
      "     8 \t      8 \t0.6380 \t0.5086 \t0.3599 \t0.2037 \t0.1044 \t0.0689 \t0.0079 \t\n",
      "    16 \t     16 \t0.7630 \t0.6674 \t0.4955 \t0.2963 \t0.1715 \t0.1244 \t0.0156 \t\n",
      "    32 \t     32 \t0.8590 \t0.7934 \t0.6158 \t0.4004 \t0.2658 \t0.2108 \t0.0303 \t\n",
      "    64 \t     64 \t0.9350 \t0.8910 \t0.7261 \t0.5170 \t0.3910 \t0.3359 \t0.0576 \t\n",
      "   128 \t    128 \t0.9810 \t0.9428 \t0.8109 \t0.6444 \t0.5410 \t0.4878 \t0.1056 \t\n",
      "   256 \t    256 \t0.9940 \t0.9758 \t0.8822 \t0.7677 \t0.6960 \t0.6489 \t0.1838 \t\n",
      "   512 \t    512 \t1.0000 \t0.9876 \t0.9333 \t0.8700 \t0.8270 \t0.7907 \t0.3008 \t\n",
      "  1024 \t   1024 \t1.0000 \t0.9934 \t0.9695 \t0.9382 \t0.9181 \t0.8928 \t0.4542 \t\n",
      "  2048 \t   2048 \t1.0000 \t0.9978 \t0.9883 \t0.9766 \t0.9692 \t0.9530 \t0.6263 \t\n",
      "  4096 \t   4096 \t1.0000 \t0.9994 \t0.9970 \t0.9939 \t0.9916 \t0.9833 \t0.7865 \t\n",
      "  8192 \t   8192 \t1.0000 \t0.9998 \t0.9994 \t0.9989 \t0.9984 \t0.9954 \t0.9045 \t\n",
      " 16384 \t  16384 \t1.0000 \t1.0000 \t1.0000 \t0.9998 \t0.9998 \t0.9991 \t0.9697 \t\n",
      " 32768 \t  32768 \t1.0000 \t1.0000 \t1.0000 \t1.0000 \t1.0000 \t0.9999 \t0.9944 \t\n",
      " 65536 \t  65536 \t1.0000 \t1.0000 \t1.0000 \t1.0000 \t1.0000 \t1.0000 \t0.9998 \t\n",
      "131072 \t  97990 \t1.0000 \t1.0000 \t1.0000 \t1.0000 \t1.0000 \t1.0000 \t1.0000 \t\n"
     ]
    }
   ],
   "source": [
    "!python main.py --dataset ssn --nt 1000 --nq 1000 --epochs 20 --save-split --recall --save-embed"
   ]
  },
  {
   "cell_type": "code",
   "execution_count": 26,
   "id": "44bb532d-291d-4531-9d80-c97517ed9366",
   "metadata": {},
   "outputs": [],
   "source": [
    "def build_data_df(dataset_name, property_name):\n",
    "    property_df = pd.read_csv(f\"data/{dataset_name}\", header=None)\n",
    "    property_df.columns=[property_name]\n",
    "\n",
    "    base_embedding = np.load(f'model/808/cnn/{dataset_name}/nt1000_nq1000/embedding_xb.npy')\n",
    "    train_embedding = np.load(f'model/808/cnn/{dataset_name}/nt1000_nq1000/embedding_xt.npy')\n",
    "    query_embedding = np.load(f'model/808/cnn/{dataset_name}/nt1000_nq1000/embedding_xq.npy')\n",
    "    embedding_df = pd.concat([pd.DataFrame(base_embedding), pd.DataFrame(train_embedding), pd.DataFrame(query_embedding)])\n",
    "\n",
    "    embedding_df['embedding'] = embedding_df.apply(lambda row: row.tolist(), axis=1)\n",
    "\n",
    "    base_index = train_embedding = np.load(f'model/808/cnn/{dataset_name}/nt1000_nq1000/base_idx.npy')\n",
    "    train_index = train_embedding = np.load(f'model/808/cnn/{dataset_name}/nt1000_nq1000/train_idx.npy')\n",
    "    query_index = train_embedding = np.load(f'model/808/cnn/{dataset_name}/nt1000_nq1000/query_idx.npy')\n",
    "\n",
    "    embedding_index = pd.concat([pd.Series(base_index), pd.Series(train_index), pd.Series(query_index)])\n",
    "    embedding_df.index = embedding_index\n",
    "\n",
    "    embedding_df = embedding_df['embedding'].copy()\n",
    "\n",
    "    data_df = property_df.merge(embedding_df, left_index=True, right_index=True)\n",
    "\n",
    "    data_df.loc[base_index, 'split'] = 'Base'\n",
    "    data_df.loc[train_index, 'split'] = 'Train'\n",
    "    data_df.loc[query_index, 'split'] = 'Query'\n",
    "\n",
    "    return data_df\n"
   ]
  },
  {
   "cell_type": "code",
   "execution_count": 7,
   "id": "a9f5cb2e-0def-43fa-a5c7-5022dba0f5ab",
   "metadata": {},
   "outputs": [],
   "source": [
    "email_df = build_data_df(\"emails\", \"address\")"
   ]
  },
  {
   "cell_type": "code",
   "execution_count": 27,
   "id": "97a04622-1711-4af3-8261-40f26d6953b6",
   "metadata": {},
   "outputs": [],
   "source": [
    "ssn_df = build_data_df(\"ssn\", \"ssn\")"
   ]
  },
  {
   "cell_type": "code",
   "execution_count": 28,
   "id": "b620bd4d-494f-47a7-9770-22891d23960a",
   "metadata": {},
   "outputs": [
    {
     "data": {
      "text/html": [
       "<div>\n",
       "<style scoped>\n",
       "    .dataframe tbody tr th:only-of-type {\n",
       "        vertical-align: middle;\n",
       "    }\n",
       "\n",
       "    .dataframe tbody tr th {\n",
       "        vertical-align: top;\n",
       "    }\n",
       "\n",
       "    .dataframe thead th {\n",
       "        text-align: right;\n",
       "    }\n",
       "</style>\n",
       "<table border=\"1\" class=\"dataframe\">\n",
       "  <thead>\n",
       "    <tr style=\"text-align: right;\">\n",
       "      <th></th>\n",
       "      <th>ssn</th>\n",
       "      <th>embedding</th>\n",
       "      <th>split</th>\n",
       "    </tr>\n",
       "  </thead>\n",
       "  <tbody>\n",
       "    <tr>\n",
       "      <th>0</th>\n",
       "      <td>797-19-5522</td>\n",
       "      <td>[0.12009803205728531, -0.029904861003160477, 0...</td>\n",
       "      <td>Base</td>\n",
       "    </tr>\n",
       "    <tr>\n",
       "      <th>1</th>\n",
       "      <td>607-53-7106</td>\n",
       "      <td>[0.20407545566558838, -0.0458657331764698, 0.0...</td>\n",
       "      <td>Base</td>\n",
       "    </tr>\n",
       "    <tr>\n",
       "      <th>2</th>\n",
       "      <td>883-80-7822</td>\n",
       "      <td>[0.04416758194565773, -0.009732005186378956, 0...</td>\n",
       "      <td>Base</td>\n",
       "    </tr>\n",
       "    <tr>\n",
       "      <th>3</th>\n",
       "      <td>444-34-9110</td>\n",
       "      <td>[0.026955336332321167, 0.04990869015455246, -0...</td>\n",
       "      <td>Base</td>\n",
       "    </tr>\n",
       "    <tr>\n",
       "      <th>4</th>\n",
       "      <td>473-41-3914</td>\n",
       "      <td>[0.10247407108545303, -0.062402576208114624, -...</td>\n",
       "      <td>Base</td>\n",
       "    </tr>\n",
       "  </tbody>\n",
       "</table>\n",
       "</div>"
      ],
      "text/plain": [
       "           ssn                                          embedding split\n",
       "0  797-19-5522  [0.12009803205728531, -0.029904861003160477, 0...  Base\n",
       "1  607-53-7106  [0.20407545566558838, -0.0458657331764698, 0.0...  Base\n",
       "2  883-80-7822  [0.04416758194565773, -0.009732005186378956, 0...  Base\n",
       "3  444-34-9110  [0.026955336332321167, 0.04990869015455246, -0...  Base\n",
       "4  473-41-3914  [0.10247407108545303, -0.062402576208114624, -...  Base"
      ]
     },
     "execution_count": 28,
     "metadata": {},
     "output_type": "execute_result"
    }
   ],
   "source": [
    "ssn_df.head()"
   ]
  },
  {
   "cell_type": "code",
   "execution_count": 29,
   "id": "c27d2f9e-72c4-43e0-8d15-ba5eae92f5b5",
   "metadata": {},
   "outputs": [
    {
     "name": "stdin",
     "output_type": "stream",
     "text": [
      "neo4j password ········\n"
     ]
    }
   ],
   "source": [
    "neo4j_password = getpass(\"neo4j password\")"
   ]
  },
  {
   "cell_type": "code",
   "execution_count": 30,
   "id": "f752211c-3b71-44e6-9da7-f3093ded69dd",
   "metadata": {},
   "outputs": [
    {
     "name": "stderr",
     "output_type": "stream",
     "text": [
      "Received notification from DBMS server: {severity: WARNING} {code: Neo.ClientNotification.Statement.FeatureDeprecationWarning} {category: DEPRECATION} {title: This feature is deprecated and will be removed in future versions.} {description: The query used a deprecated field from a procedure. ('advertisedListenAddress' returned by 'gds.debug.arrow' is deprecated.)} {position: line: 1, column: 1, offset: 0} for query: 'CALL gds.debug.arrow()'\n",
      "Received notification from DBMS server: {severity: WARNING} {code: Neo.ClientNotification.Statement.FeatureDeprecationWarning} {category: DEPRECATION} {title: This feature is deprecated and will be removed in future versions.} {description: The query used a deprecated field from a procedure. ('serverLocation' returned by 'gds.debug.arrow' is deprecated.)} {position: line: 1, column: 1, offset: 0} for query: 'CALL gds.debug.arrow()'\n"
     ]
    }
   ],
   "source": [
    "gds = GraphDataScience(\"neo4j+s://3bddbcd7.databases.neo4j.io\", auth=(\"neo4j\", neo4j_password))"
   ]
  },
  {
   "cell_type": "code",
   "execution_count": null,
   "id": "3c1e793c-cfb5-406b-b8dc-1e3dc5483f9a",
   "metadata": {},
   "outputs": [],
   "source": [
    "gds.run_cypher(\"\"\"CREATE CONSTRAINT email_node_key FOR (e:Email) REQUIRE e.address IS NODE KEY\"\"\")"
   ]
  },
  {
   "cell_type": "code",
   "execution_count": 25,
   "id": "06ab5c8d-3c2c-4559-b506-d7cfde052523",
   "metadata": {},
   "outputs": [
    {
     "data": {
      "text/html": [
       "<div>\n",
       "<style scoped>\n",
       "    .dataframe tbody tr th:only-of-type {\n",
       "        vertical-align: middle;\n",
       "    }\n",
       "\n",
       "    .dataframe tbody tr th {\n",
       "        vertical-align: top;\n",
       "    }\n",
       "\n",
       "    .dataframe thead th {\n",
       "        text-align: right;\n",
       "    }\n",
       "</style>\n",
       "<table border=\"1\" class=\"dataframe\">\n",
       "  <thead>\n",
       "    <tr style=\"text-align: right;\">\n",
       "      <th></th>\n",
       "    </tr>\n",
       "  </thead>\n",
       "  <tbody>\n",
       "  </tbody>\n",
       "</table>\n",
       "</div>"
      ],
      "text/plain": [
       "Empty DataFrame\n",
       "Columns: []\n",
       "Index: []"
      ]
     },
     "execution_count": 25,
     "metadata": {},
     "output_type": "execute_result"
    }
   ],
   "source": [
    "gds.run_cypher(\"\"\"\n",
    "UNWIND $data AS row\n",
    "CALL {\n",
    "    WITH row\n",
    "    MERGE (e:Email {address:row['email']})\n",
    "    SET e.split = row['Split']\n",
    "    WITH row, e\n",
    "    CALL db.create.setNodeVectorProperty(e, 'editEmbedding', row['embedding']) \n",
    "} IN CONCURRENT TRANSACTIONS OF 10000 rows\"\"\",\n",
    "              {\"data\": embedding_df.to_dict(\"records\")})"
   ]
  },
  {
   "cell_type": "code",
   "execution_count": 31,
   "id": "1eb7de05-6d85-44a5-985c-955b1df7664d",
   "metadata": {},
   "outputs": [
    {
     "data": {
      "text/html": [
       "<div>\n",
       "<style scoped>\n",
       "    .dataframe tbody tr th:only-of-type {\n",
       "        vertical-align: middle;\n",
       "    }\n",
       "\n",
       "    .dataframe tbody tr th {\n",
       "        vertical-align: top;\n",
       "    }\n",
       "\n",
       "    .dataframe thead th {\n",
       "        text-align: right;\n",
       "    }\n",
       "</style>\n",
       "<table border=\"1\" class=\"dataframe\">\n",
       "  <thead>\n",
       "    <tr style=\"text-align: right;\">\n",
       "      <th></th>\n",
       "    </tr>\n",
       "  </thead>\n",
       "  <tbody>\n",
       "  </tbody>\n",
       "</table>\n",
       "</div>"
      ],
      "text/plain": [
       "Empty DataFrame\n",
       "Columns: []\n",
       "Index: []"
      ]
     },
     "execution_count": 31,
     "metadata": {},
     "output_type": "execute_result"
    }
   ],
   "source": [
    "gds.run_cypher(\"\"\"CREATE CONSTRAINT ssn_node_key FOR (s:SSN) REQUIRE s.ssn IS NODE KEY\"\"\")"
   ]
  },
  {
   "cell_type": "code",
   "execution_count": 32,
   "id": "ca4f376a-4930-40bf-9dc7-a78bb07a76db",
   "metadata": {},
   "outputs": [
    {
     "data": {
      "text/html": [
       "<div>\n",
       "<style scoped>\n",
       "    .dataframe tbody tr th:only-of-type {\n",
       "        vertical-align: middle;\n",
       "    }\n",
       "\n",
       "    .dataframe tbody tr th {\n",
       "        vertical-align: top;\n",
       "    }\n",
       "\n",
       "    .dataframe thead th {\n",
       "        text-align: right;\n",
       "    }\n",
       "</style>\n",
       "<table border=\"1\" class=\"dataframe\">\n",
       "  <thead>\n",
       "    <tr style=\"text-align: right;\">\n",
       "      <th></th>\n",
       "    </tr>\n",
       "  </thead>\n",
       "  <tbody>\n",
       "  </tbody>\n",
       "</table>\n",
       "</div>"
      ],
      "text/plain": [
       "Empty DataFrame\n",
       "Columns: []\n",
       "Index: []"
      ]
     },
     "execution_count": 32,
     "metadata": {},
     "output_type": "execute_result"
    }
   ],
   "source": [
    "gds.run_cypher(\"\"\"\n",
    "UNWIND $data AS row\n",
    "CALL {\n",
    "    WITH row\n",
    "    MERGE (e:SSN {ssn:row['ssn']})\n",
    "    SET e.split = row['split']\n",
    "    WITH row, e\n",
    "    CALL db.create.setNodeVectorProperty(e, 'editEmbedding', row['embedding']) \n",
    "} IN CONCURRENT TRANSACTIONS OF 10000 rows\"\"\",\n",
    "              {\"data\": ssn_df.to_dict(\"records\")})"
   ]
  },
  {
   "cell_type": "code",
   "execution_count": null,
   "id": "977a6524-6dce-4c94-98d5-02789c3e8302",
   "metadata": {},
   "outputs": [],
   "source": []
  }
 ],
 "metadata": {
  "kernelspec": {
   "display_name": "Python 3 (ipykernel)",
   "language": "python",
   "name": "python3"
  },
  "language_info": {
   "codemirror_mode": {
    "name": "ipython",
    "version": 3
   },
   "file_extension": ".py",
   "mimetype": "text/x-python",
   "name": "python",
   "nbconvert_exporter": "python",
   "pygments_lexer": "ipython3",
   "version": "3.10.14"
  }
 },
 "nbformat": 4,
 "nbformat_minor": 5
}
