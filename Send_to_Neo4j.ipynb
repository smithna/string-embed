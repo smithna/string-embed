{
 "cells": [
  {
   "cell_type": "code",
   "execution_count": 158,
   "id": "6794bd1b-9ac4-42c2-a601-cc817e64fd19",
   "metadata": {},
   "outputs": [
    {
     "name": "stdout",
     "output_type": "stream",
     "text": [
      "Collecting graphdatascience\n",
      "  Downloading graphdatascience-1.10-py3-none-any.whl.metadata (7.7 kB)\n",
      "Collecting multimethod<2.0,>=1.0 (from graphdatascience)\n",
      "  Downloading multimethod-1.12-py3-none-any.whl.metadata (9.6 kB)\n",
      "Collecting neo4j<6.0,>=4.4.2 (from graphdatascience)\n",
      "  Downloading neo4j-5.22.0-py3-none-any.whl.metadata (5.7 kB)\n",
      "Requirement already satisfied: pandas<3.0,>=1.0 in /opt/conda/lib/python3.10/site-packages (from graphdatascience) (2.1.4)\n",
      "Requirement already satisfied: pyarrow<16.0,>=11.0 in /opt/conda/lib/python3.10/site-packages (from graphdatascience) (15.0.0)\n",
      "Collecting textdistance<5.0,>=4.0 (from graphdatascience)\n",
      "  Downloading textdistance-4.6.2-py3-none-any.whl.metadata (18 kB)\n",
      "Requirement already satisfied: tqdm<5.0,>=4.0 in /opt/conda/lib/python3.10/site-packages (from graphdatascience) (4.66.4)\n",
      "Requirement already satisfied: typing-extensions<5.0,>=4.0 in /opt/conda/lib/python3.10/site-packages (from graphdatascience) (4.12.2)\n",
      "Requirement already satisfied: requests in /opt/conda/lib/python3.10/site-packages (from graphdatascience) (2.32.3)\n",
      "Requirement already satisfied: pytz in /opt/conda/lib/python3.10/site-packages (from neo4j<6.0,>=4.4.2->graphdatascience) (2023.3)\n",
      "Requirement already satisfied: numpy<2,>=1.22.4 in /opt/conda/lib/python3.10/site-packages (from pandas<3.0,>=1.0->graphdatascience) (1.26.4)\n",
      "Requirement already satisfied: python-dateutil>=2.8.2 in /opt/conda/lib/python3.10/site-packages (from pandas<3.0,>=1.0->graphdatascience) (2.9.0)\n",
      "Requirement already satisfied: tzdata>=2022.1 in /opt/conda/lib/python3.10/site-packages (from pandas<3.0,>=1.0->graphdatascience) (2024.1)\n",
      "Requirement already satisfied: charset-normalizer<4,>=2 in /opt/conda/lib/python3.10/site-packages (from requests->graphdatascience) (3.3.2)\n",
      "Requirement already satisfied: idna<4,>=2.5 in /opt/conda/lib/python3.10/site-packages (from requests->graphdatascience) (3.7)\n",
      "Requirement already satisfied: urllib3<3,>=1.21.1 in /opt/conda/lib/python3.10/site-packages (from requests->graphdatascience) (1.26.19)\n",
      "Requirement already satisfied: certifi>=2017.4.17 in /opt/conda/lib/python3.10/site-packages (from requests->graphdatascience) (2024.6.2)\n",
      "Requirement already satisfied: six>=1.5 in /opt/conda/lib/python3.10/site-packages (from python-dateutil>=2.8.2->pandas<3.0,>=1.0->graphdatascience) (1.16.0)\n",
      "Downloading graphdatascience-1.10-py3-none-any.whl (1.6 MB)\n",
      "\u001b[2K   \u001b[90m━━━━━━━━━━━━━━━━━━━━━━━━━━━━━━━━━━━━━━━━\u001b[0m \u001b[32m1.6/1.6 MB\u001b[0m \u001b[31m27.5 MB/s\u001b[0m eta \u001b[36m0:00:00\u001b[0ma \u001b[36m0:00:01\u001b[0m\n",
      "\u001b[?25hDownloading multimethod-1.12-py3-none-any.whl (10 kB)\n",
      "Downloading neo4j-5.22.0-py3-none-any.whl (293 kB)\n",
      "\u001b[2K   \u001b[90m━━━━━━━━━━━━━━━━━━━━━━━━━━━━━━━━━━━━━━━━\u001b[0m \u001b[32m293.5/293.5 kB\u001b[0m \u001b[31m48.8 MB/s\u001b[0m eta \u001b[36m0:00:00\u001b[0m\n",
      "\u001b[?25hDownloading textdistance-4.6.2-py3-none-any.whl (31 kB)\n",
      "Installing collected packages: textdistance, neo4j, multimethod, graphdatascience\n",
      "Successfully installed graphdatascience-1.10 multimethod-1.12 neo4j-5.22.0 textdistance-4.6.2\n"
     ]
    }
   ],
   "source": [
    "!pip install graphdatascience"
   ]
  },
  {
   "cell_type": "code",
   "execution_count": 159,
   "id": "6fc91979-fa13-45d2-a3e9-fc4ab62cba20",
   "metadata": {},
   "outputs": [],
   "source": [
    "from graphdatascience import GraphDataScience\n",
    "from getpass import getpass\n",
    "import pandas as pd\n",
    "import numpy as np"
   ]
  },
  {
   "cell_type": "code",
   "execution_count": null,
   "id": "ea1d9dd7-e96a-432c-b0c5-62613e639057",
   "metadata": {},
   "outputs": [],
   "source": [
    "!python main.py --dataset emails --nt 1000 --nq 1000 --epochs 20 --save-split --recall --save-embed --save-model"
   ]
  },
  {
   "cell_type": "code",
   "execution_count": 218,
   "id": "c93f9951-d711-4a0d-a97b-1b604f6bdacf",
   "metadata": {},
   "outputs": [],
   "source": [
    "email_df = pd.read_csv(\"data/emails\", header=None)\n",
    "email_df.columns=['email']"
   ]
  },
  {
   "cell_type": "code",
   "execution_count": 219,
   "id": "8a800b4c-582e-418a-b3e2-8e96138dc65b",
   "metadata": {},
   "outputs": [
    {
     "data": {
      "text/html": [
       "<div>\n",
       "<style scoped>\n",
       "    .dataframe tbody tr th:only-of-type {\n",
       "        vertical-align: middle;\n",
       "    }\n",
       "\n",
       "    .dataframe tbody tr th {\n",
       "        vertical-align: top;\n",
       "    }\n",
       "\n",
       "    .dataframe thead th {\n",
       "        text-align: right;\n",
       "    }\n",
       "</style>\n",
       "<table border=\"1\" class=\"dataframe\">\n",
       "  <thead>\n",
       "    <tr style=\"text-align: right;\">\n",
       "      <th></th>\n",
       "      <th>email</th>\n",
       "    </tr>\n",
       "  </thead>\n",
       "  <tbody>\n",
       "    <tr>\n",
       "      <th>965</th>\n",
       "      <td>shawn34@gmail.com</td>\n",
       "    </tr>\n",
       "  </tbody>\n",
       "</table>\n",
       "</div>"
      ],
      "text/plain": [
       "                 email\n",
       "965  shawn34@gmail.com"
      ]
     },
     "execution_count": 219,
     "metadata": {},
     "output_type": "execute_result"
    }
   ],
   "source": [
    "email_df[email_df['email']=='shawn34@gmail.com']"
   ]
  },
  {
   "cell_type": "code",
   "execution_count": 191,
   "id": "aa16d0e2-fdbb-4c0b-a4a7-e002edacbe2e",
   "metadata": {},
   "outputs": [
    {
     "name": "stdout",
     "output_type": "stream",
     "text": [
      "base_idx.npy\t  embedding_xt.npy  query_idx.npy   train_idx.npy\n",
      "embedding_xb.npy  model.torch\t    query_knn.npy   train_knn.npy\n",
      "embedding_xq.npy  query_dist.npy    train_dist.npy\n"
     ]
    }
   ],
   "source": [
    "!ls model/808/cnn/emails/nt1000_nq1000"
   ]
  },
  {
   "cell_type": "code",
   "execution_count": 244,
   "id": "a9c5c88c-d39d-46ef-91dd-a337b969145a",
   "metadata": {},
   "outputs": [],
   "source": [
    "base_embedding = np.load('model/808/cnn/emails/nt1000_nq1000/embedding_xb.npy')\n",
    "train_embedding = np.load('model/808/cnn/emails/nt1000_nq1000/embedding_xt.npy')\n",
    "query_embedding = np.load('model/808/cnn/emails/nt1000_nq1000/embedding_xq.npy')"
   ]
  },
  {
   "cell_type": "code",
   "execution_count": 245,
   "id": "f6431737-9457-4a56-be11-d9c681042890",
   "metadata": {},
   "outputs": [],
   "source": [
    "embedding_df = pd.concat([pd.DataFrame(base_embedding), pd.DataFrame(train_embedding), pd.DataFrame(query_embedding)])"
   ]
  },
  {
   "cell_type": "code",
   "execution_count": 247,
   "id": "3312d6f1-bfc3-4c54-a5fa-5c6f0872f240",
   "metadata": {},
   "outputs": [],
   "source": [
    "base_index = train_embedding = np.load('model/808/cnn/emails/nt1000_nq1000/base_idx.npy')\n",
    "train_index = train_embedding = np.load('model/808/cnn/emails/nt1000_nq1000/train_idx.npy')\n",
    "query_index = train_embedding = np.load('model/808/cnn/emails/nt1000_nq1000/query_idx.npy')"
   ]
  },
  {
   "cell_type": "code",
   "execution_count": 248,
   "id": "1e60fc72-6372-4cd8-8333-809592fa0f7b",
   "metadata": {},
   "outputs": [],
   "source": [
    "embedding_index = pd.concat([pd.Series(base_index), pd.Series(train_index), pd.Series(query_index)])"
   ]
  },
  {
   "cell_type": "code",
   "execution_count": 249,
   "id": "73fbff0e-97f6-41a7-9425-79e78913c6a7",
   "metadata": {},
   "outputs": [],
   "source": [
    "embedding_df.index = embedding_index"
   ]
  },
  {
   "cell_type": "code",
   "execution_count": 250,
   "id": "6c9128a0-3097-494d-8b2a-7ccca6ed97a0",
   "metadata": {},
   "outputs": [],
   "source": [
    "embedding_df['embedding'] = embedding_df.apply(lambda row: row.tolist(), axis=1)"
   ]
  },
  {
   "cell_type": "code",
   "execution_count": 252,
   "id": "cf811a95-fee6-4e19-8926-5588653daedf",
   "metadata": {},
   "outputs": [],
   "source": [
    "embedding_df = embedding_df['embedding'].copy()"
   ]
  },
  {
   "cell_type": "code",
   "execution_count": 253,
   "id": "c6bd221c-ae94-4d96-aedf-642409b3c189",
   "metadata": {},
   "outputs": [],
   "source": [
    "embedding_df = email_df.merge(embedding_df, left_index=True, right_index=True)"
   ]
  },
  {
   "cell_type": "code",
   "execution_count": 254,
   "id": "e923dc1f-5f70-4129-a7be-4071b1eab0a0",
   "metadata": {},
   "outputs": [
    {
     "data": {
      "text/html": [
       "<div>\n",
       "<style scoped>\n",
       "    .dataframe tbody tr th:only-of-type {\n",
       "        vertical-align: middle;\n",
       "    }\n",
       "\n",
       "    .dataframe tbody tr th {\n",
       "        vertical-align: top;\n",
       "    }\n",
       "\n",
       "    .dataframe thead th {\n",
       "        text-align: right;\n",
       "    }\n",
       "</style>\n",
       "<table border=\"1\" class=\"dataframe\">\n",
       "  <thead>\n",
       "    <tr style=\"text-align: right;\">\n",
       "      <th></th>\n",
       "      <th>email</th>\n",
       "      <th>embedding</th>\n",
       "    </tr>\n",
       "  </thead>\n",
       "  <tbody>\n",
       "    <tr>\n",
       "      <th>0</th>\n",
       "      <td>johnbrooks@hotmail.com</td>\n",
       "      <td>[0.07029952108860016, 0.004608599003404379, -0...</td>\n",
       "    </tr>\n",
       "    <tr>\n",
       "      <th>1</th>\n",
       "      <td>kellyalejandra@potter.net</td>\n",
       "      <td>[0.006088620983064175, -0.00497810123488307, 0...</td>\n",
       "    </tr>\n",
       "    <tr>\n",
       "      <th>2</th>\n",
       "      <td>teresa28@roach.com</td>\n",
       "      <td>[0.0385185070335865, -0.037428926676511765, 0....</td>\n",
       "    </tr>\n",
       "    <tr>\n",
       "      <th>3</th>\n",
       "      <td>roweamy@martinez-douglas.com</td>\n",
       "      <td>[0.10387729853391647, 0.023334773257374763, 0....</td>\n",
       "    </tr>\n",
       "    <tr>\n",
       "      <th>4</th>\n",
       "      <td>sjennings@rivera.com</td>\n",
       "      <td>[0.00400144886225462, -0.00797479972243309, 0....</td>\n",
       "    </tr>\n",
       "  </tbody>\n",
       "</table>\n",
       "</div>"
      ],
      "text/plain": [
       "                          email  \\\n",
       "0        johnbrooks@hotmail.com   \n",
       "1     kellyalejandra@potter.net   \n",
       "2            teresa28@roach.com   \n",
       "3  roweamy@martinez-douglas.com   \n",
       "4          sjennings@rivera.com   \n",
       "\n",
       "                                           embedding  \n",
       "0  [0.07029952108860016, 0.004608599003404379, -0...  \n",
       "1  [0.006088620983064175, -0.00497810123488307, 0...  \n",
       "2  [0.0385185070335865, -0.037428926676511765, 0....  \n",
       "3  [0.10387729853391647, 0.023334773257374763, 0....  \n",
       "4  [0.00400144886225462, -0.00797479972243309, 0....  "
      ]
     },
     "execution_count": 254,
     "metadata": {},
     "output_type": "execute_result"
    }
   ],
   "source": [
    "embedding_df.head()"
   ]
  },
  {
   "cell_type": "code",
   "execution_count": 210,
   "id": "c27d2f9e-72c4-43e0-8d15-ba5eae92f5b5",
   "metadata": {},
   "outputs": [
    {
     "name": "stdin",
     "output_type": "stream",
     "text": [
      "neo4j password ········\n"
     ]
    }
   ],
   "source": [
    "neo4j_password = getpass(\"neo4j password\")"
   ]
  },
  {
   "cell_type": "code",
   "execution_count": 211,
   "id": "501d9415-1f62-47ed-b452-42ce9570231f",
   "metadata": {},
   "outputs": [
    {
     "name": "stderr",
     "output_type": "stream",
     "text": [
      "Received notification from DBMS server: {severity: WARNING} {code: Neo.ClientNotification.Statement.FeatureDeprecationWarning} {category: DEPRECATION} {title: This feature is deprecated and will be removed in future versions.} {description: The query used a deprecated field from a procedure. ('advertisedListenAddress' returned by 'gds.debug.arrow' is deprecated.)} {position: line: 1, column: 1, offset: 0} for query: 'CALL gds.debug.arrow()'\n",
      "Received notification from DBMS server: {severity: WARNING} {code: Neo.ClientNotification.Statement.FeatureDeprecationWarning} {category: DEPRECATION} {title: This feature is deprecated and will be removed in future versions.} {description: The query used a deprecated field from a procedure. ('serverLocation' returned by 'gds.debug.arrow' is deprecated.)} {position: line: 1, column: 1, offset: 0} for query: 'CALL gds.debug.arrow()'\n"
     ]
    }
   ],
   "source": [
    "gds = GraphDataScience(\"neo4j+s://8b188457.databases.neo4j.io\", auth=(\"neo4j\", neo4j_password))"
   ]
  },
  {
   "cell_type": "code",
   "execution_count": 256,
   "id": "1eb7de05-6d85-44a5-985c-955b1df7664d",
   "metadata": {},
   "outputs": [
    {
     "data": {
      "text/html": [
       "<div>\n",
       "<style scoped>\n",
       "    .dataframe tbody tr th:only-of-type {\n",
       "        vertical-align: middle;\n",
       "    }\n",
       "\n",
       "    .dataframe tbody tr th {\n",
       "        vertical-align: top;\n",
       "    }\n",
       "\n",
       "    .dataframe thead th {\n",
       "        text-align: right;\n",
       "    }\n",
       "</style>\n",
       "<table border=\"1\" class=\"dataframe\">\n",
       "  <thead>\n",
       "    <tr style=\"text-align: right;\">\n",
       "      <th></th>\n",
       "    </tr>\n",
       "  </thead>\n",
       "  <tbody>\n",
       "  </tbody>\n",
       "</table>\n",
       "</div>"
      ],
      "text/plain": [
       "Empty DataFrame\n",
       "Columns: []\n",
       "Index: []"
      ]
     },
     "execution_count": 256,
     "metadata": {},
     "output_type": "execute_result"
    }
   ],
   "source": [
    "gds.run_cypher(\"\"\"CREATE CONSTRAINT email_node_key FOR (e:Email) REQUIRE e.address IS NODE KEY\"\"\")"
   ]
  },
  {
   "cell_type": "code",
   "execution_count": 258,
   "id": "06ab5c8d-3c2c-4559-b506-d7cfde052523",
   "metadata": {},
   "outputs": [
    {
     "data": {
      "text/html": [
       "<div>\n",
       "<style scoped>\n",
       "    .dataframe tbody tr th:only-of-type {\n",
       "        vertical-align: middle;\n",
       "    }\n",
       "\n",
       "    .dataframe tbody tr th {\n",
       "        vertical-align: top;\n",
       "    }\n",
       "\n",
       "    .dataframe thead th {\n",
       "        text-align: right;\n",
       "    }\n",
       "</style>\n",
       "<table border=\"1\" class=\"dataframe\">\n",
       "  <thead>\n",
       "    <tr style=\"text-align: right;\">\n",
       "      <th></th>\n",
       "    </tr>\n",
       "  </thead>\n",
       "  <tbody>\n",
       "  </tbody>\n",
       "</table>\n",
       "</div>"
      ],
      "text/plain": [
       "Empty DataFrame\n",
       "Columns: []\n",
       "Index: []"
      ]
     },
     "execution_count": 258,
     "metadata": {},
     "output_type": "execute_result"
    }
   ],
   "source": [
    "gds.run_cypher(\"\"\"\n",
    "UNWIND $data AS row\n",
    "CALL {\n",
    "    WITH row\n",
    "    MERGE (e:Email {address:row['email']})\n",
    "    WITH row, e\n",
    "    CALL db.create.setNodeVectorProperty(e, 'editEmbedding', row['embedding']) \n",
    "} IN CONCURRENT TRANSACTIONS OF 10000 rows\"\"\",\n",
    "              {\"data\": embedding_df.to_dict(\"records\")})"
   ]
  },
  {
   "cell_type": "code",
   "execution_count": null,
   "id": "977a6524-6dce-4c94-98d5-02789c3e8302",
   "metadata": {},
   "outputs": [],
   "source": []
  }
 ],
 "metadata": {
  "kernelspec": {
   "display_name": "Python 3 (ipykernel)",
   "language": "python",
   "name": "python3"
  },
  "language_info": {
   "codemirror_mode": {
    "name": "ipython",
    "version": 3
   },
   "file_extension": ".py",
   "mimetype": "text/x-python",
   "name": "python",
   "nbconvert_exporter": "python",
   "pygments_lexer": "ipython3",
   "version": "3.10.14"
  }
 },
 "nbformat": 4,
 "nbformat_minor": 5
}
